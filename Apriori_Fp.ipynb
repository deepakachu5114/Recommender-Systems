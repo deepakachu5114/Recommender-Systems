{
 "metadata": {
  "kernelspec": {
   "language": "python",
   "display_name": "Python 3",
   "name": "python3"
  },
  "language_info": {
   "name": "python",
   "version": "3.10.13",
   "mimetype": "text/x-python",
   "codemirror_mode": {
    "name": "ipython",
    "version": 3
   },
   "pygments_lexer": "ipython3",
   "nbconvert_exporter": "python",
   "file_extension": ".py"
  },
  "kaggle": {
   "accelerator": "none",
   "dataSources": [
    {
     "sourceId": 7781186,
     "sourceType": "datasetVersion",
     "datasetId": 4553454
    }
   ],
   "dockerImageVersionId": 30664,
   "isInternetEnabled": true,
   "language": "python",
   "sourceType": "notebook",
   "isGpuEnabled": false
  }
 },
 "nbformat_minor": 4,
 "nbformat": 4,
 "cells": [
  {
   "cell_type": "markdown",
   "source": [
    "# Load the dataset"
   ],
   "metadata": {}
  },
  {
   "cell_type": "code",
   "source": [
    "import numpy as np # linear algebra\n",
    "import pandas as pd # data processing, CSV file I/O (e.g. pd.read_csv)\n",
    "df = pd.read_csv(\"/kaggle/input/changepay-dataset-unfiltered/changepay dataset.csv\")\n",
    "df"
   ],
   "metadata": {
    "execution": {
     "iopub.status.busy": "2024-03-12T06:17:15.009213Z",
     "iopub.execute_input": "2024-03-12T06:17:15.009513Z",
     "iopub.status.idle": "2024-03-12T06:17:17.882342Z",
     "shell.execute_reply.started": "2024-03-12T06:17:15.009489Z",
     "shell.execute_reply": "2024-03-12T06:17:17.881131Z"
    },
    "trusted": true
   },
   "execution_count": 1,
   "outputs": [
    {
     "execution_count": 1,
     "output_type": "execute_result",
     "data": {
      "text/plain": "                                 External ID  \\\n0       e72f9155-4ccb-4fbc-be6d-1c9957367197   \n1       e72f9155-4ccb-4fbc-be6d-1c9957367197   \n2       ab4d8e06-5f4e-428d-99a6-325d1d3593f7   \n3       c32091f1-26a7-4664-bbf3-97b006b5d625   \n4       90fde31c-1be3-4857-a449-dd7b01679dd6   \n...                                      ...   \n167422  35ae4a56-5dd4-4166-bb40-0e61d2e2bb9e   \n167423  2567e93e-b9dc-44b8-960a-f9ea5d1b7789   \n167424  dc27284a-72ed-4862-94b1-7530483ec12e   \n167425  dc27284a-72ed-4862-94b1-7530483ec12e   \n167426  dc27284a-72ed-4862-94b1-7530483ec12e   \n\n                                 Created                          Modified  \\\n0       2023-11-05T13:56:08.498625+05:30  2023-12-29T12:55:12.031871+05:30   \n1       2023-11-05T13:56:08.498625+05:30  2023-12-29T12:55:12.031871+05:30   \n2       2023-10-15T20:26:16.680547+05:30  2023-12-06T17:13:17.581218+05:30   \n3        2023-10-14T16:20:14.76221+05:30  2023-12-06T17:13:17.532478+05:30   \n4       2023-09-25T20:13:01.833086+05:30  2023-12-06T17:13:17.473469+05:30   \n...                                  ...                               ...   \n167422  2023-06-04T14:11:00.506763+05:30  2023-06-07T22:19:43.517893+05:30   \n167423  2023-06-04T11:52:50.666237+05:30  2023-06-07T22:23:08.587979+05:30   \n167424  2023-06-04T09:35:43.365282+05:30  2023-06-07T22:24:03.920719+05:30   \n167425  2023-06-04T09:35:43.365282+05:30  2023-06-07T22:24:03.920719+05:30   \n167426  2023-06-04T09:35:43.365282+05:30  2023-06-07T22:24:03.920719+05:30   \n\n       Order Short Number Order Status  Item Total  Delivery Charges  \\\n0                  05ccdc    COMPLETED       10000                 0   \n1                  05ccdc    COMPLETED       10000                 0   \n2                  d127a0    COMPLETED       72000                 0   \n3                  1601b8    COMPLETED       12000                 0   \n4                  a31ea1    COMPLETED         200                 0   \n...                   ...          ...         ...               ...   \n167422             993f81    COMPLETED       12000                 0   \n167423             47981a    COMPLETED       20500                 0   \n167424             5b8d37    COMPLETED       10000                 0   \n167425             5b8d37    COMPLETED       10000                 0   \n167426             5b8d37    COMPLETED       10000                 0   \n\n        Other Charges  Order Total  Rating Value  ...  \\\n0                 500        10500           2.0  ...   \n1                 500        10500           2.0  ...   \n2                 500        72500           NaN  ...   \n3                 500        12500           NaN  ...   \n4                   0          200           NaN  ...   \n...               ...          ...           ...  ...   \n167422           1000        13000           NaN  ...   \n167423           2075        22575           NaN  ...   \n167424           1500        11500           NaN  ...   \n167425           1500        11500           NaN  ...   \n167426           1500        11500           NaN  ...   \n\n       Order Order Item → Unit Price  Order Order Item → Product Sk U ID  \\\n0                               5000                              355521   \n1                               5000                              355153   \n2                              72000                              353317   \n3                              12000                              353310   \n4                                100                              352808   \n...                              ...                                 ...   \n167422                          6000                              180338   \n167423                         20500                              189512   \n167424                          1000                              204552   \n167425                          8000                              180416   \n167426                          1000                              204553   \n\n        Order Order Item → Unit Price With Addon  \\\n0                                           5000   \n1                                           5000   \n2                                          72000   \n3                                          12000   \n4                                            100   \n...                                          ...   \n167422                                      6000   \n167423                                     20500   \n167424                                      1000   \n167425                                      8000   \n167426                                      1000   \n\n        Order Order Item → Rating Val  Order Order Item → Business Comission  \\\n0                                 2.0                                      0   \n1                                 4.0                                      0   \n2                                 NaN                                      0   \n3                                 NaN                                      0   \n4                                 NaN                                      0   \n...                               ...                                    ...   \n167422                            NaN                                      0   \n167423                            NaN                                      0   \n167424                            NaN                                      0   \n167425                            NaN                                      0   \n167426                            NaN                                      0   \n\n       Customer → Profile Name                     Cluster → Cluster Name  \\\n0                 Achar Aditya  National Institute of Technology, Calicut   \n1                 Achar Aditya  National Institute of Technology, Calicut   \n2        j.sri venkata gowtham  National Institute of Technology, Calicut   \n3                      Janhavi  National Institute of Technology, Calicut   \n4           Madhusudan Agarwal  National Institute of Technology, Calicut   \n...                        ...                                        ...   \n167422                  sakshi                          MAHE, KMC HOSTELS   \n167423                  Rashmi                          MAHE, KMC HOSTELS   \n167424          vanshika saini                          MAHE, KMC HOSTELS   \n167425          vanshika saini                          MAHE, KMC HOSTELS   \n167426          vanshika saini                          MAHE, KMC HOSTELS   \n\n        Payment V2 → Info → Pay Via  \\\n0                               upi   \n1                               upi   \n2                               upi   \n3                               upi   \n4                               upi   \n...                             ...   \n167422                          upi   \n167423                          upi   \n167424                          upi   \n167425                          upi   \n167426                          upi   \n\n        Delivery Fulfillment → Info → Delivery Address → Address ID  \\\n0                    db8d5d02-64d4-49ae-bb0b-135927833210             \n1                    db8d5d02-64d4-49ae-bb0b-135927833210             \n2                    49a25fd6-c0af-46c3-a5b5-584f19293c22             \n3                    09ea241e-2db2-42aa-b452-53e1f0b314cd             \n4                    db8d5d02-64d4-49ae-bb0b-135927833210             \n...                                                   ...             \n167422               30941296-5393-494d-8e8f-06a8c82ed66c             \n167423               c33cc576-888c-4630-895e-8fc6b977dac5             \n167424               2e963897-7e9e-4142-854c-c54f5b01c4ec             \n167425               2e963897-7e9e-4142-854c-c54f5b01c4ec             \n167426               2e963897-7e9e-4142-854c-c54f5b01c4ec             \n\n        Delivery Fulfillment → Info → Delivery Address → Address Name  \n0                        MAINROAD  ENTRANCE GATE -MEGA BO              \n1                        MAINROAD  ENTRANCE GATE -MEGA BO              \n2                                                 BLOCK B              \n3                        MAINROAD  ENTRANCE Gate  - MEGA               \n4                        MAINROAD-MEGA BOYS HOSTEL ENTRAN              \n...                                                   ...              \n167422                         NIH C Block / MIT students              \n167423                                      Sharada Block              \n167424                                       Indira Block              \n167425                                       Indira Block              \n167426                                       Indira Block              \n\n[167427 rows x 39 columns]",
      "text/html": "<div>\n<style scoped>\n    .dataframe tbody tr th:only-of-type {\n        vertical-align: middle;\n    }\n\n    .dataframe tbody tr th {\n        vertical-align: top;\n    }\n\n    .dataframe thead th {\n        text-align: right;\n    }\n</style>\n<table border=\"1\" class=\"dataframe\">\n  <thead>\n    <tr style=\"text-align: right;\">\n      <th></th>\n      <th>External ID</th>\n      <th>Created</th>\n      <th>Modified</th>\n      <th>Order Short Number</th>\n      <th>Order Status</th>\n      <th>Item Total</th>\n      <th>Delivery Charges</th>\n      <th>Other Charges</th>\n      <th>Order Total</th>\n      <th>Rating Value</th>\n      <th>...</th>\n      <th>Order Order Item → Unit Price</th>\n      <th>Order Order Item → Product Sk U ID</th>\n      <th>Order Order Item → Unit Price With Addon</th>\n      <th>Order Order Item → Rating Val</th>\n      <th>Order Order Item → Business Comission</th>\n      <th>Customer → Profile Name</th>\n      <th>Cluster → Cluster Name</th>\n      <th>Payment V2 → Info → Pay Via</th>\n      <th>Delivery Fulfillment → Info → Delivery Address → Address ID</th>\n      <th>Delivery Fulfillment → Info → Delivery Address → Address Name</th>\n    </tr>\n  </thead>\n  <tbody>\n    <tr>\n      <th>0</th>\n      <td>e72f9155-4ccb-4fbc-be6d-1c9957367197</td>\n      <td>2023-11-05T13:56:08.498625+05:30</td>\n      <td>2023-12-29T12:55:12.031871+05:30</td>\n      <td>05ccdc</td>\n      <td>COMPLETED</td>\n      <td>10000</td>\n      <td>0</td>\n      <td>500</td>\n      <td>10500</td>\n      <td>2.0</td>\n      <td>...</td>\n      <td>5000</td>\n      <td>355521</td>\n      <td>5000</td>\n      <td>2.0</td>\n      <td>0</td>\n      <td>Achar Aditya</td>\n      <td>National Institute of Technology, Calicut</td>\n      <td>upi</td>\n      <td>db8d5d02-64d4-49ae-bb0b-135927833210</td>\n      <td>MAINROAD  ENTRANCE GATE -MEGA BO</td>\n    </tr>\n    <tr>\n      <th>1</th>\n      <td>e72f9155-4ccb-4fbc-be6d-1c9957367197</td>\n      <td>2023-11-05T13:56:08.498625+05:30</td>\n      <td>2023-12-29T12:55:12.031871+05:30</td>\n      <td>05ccdc</td>\n      <td>COMPLETED</td>\n      <td>10000</td>\n      <td>0</td>\n      <td>500</td>\n      <td>10500</td>\n      <td>2.0</td>\n      <td>...</td>\n      <td>5000</td>\n      <td>355153</td>\n      <td>5000</td>\n      <td>4.0</td>\n      <td>0</td>\n      <td>Achar Aditya</td>\n      <td>National Institute of Technology, Calicut</td>\n      <td>upi</td>\n      <td>db8d5d02-64d4-49ae-bb0b-135927833210</td>\n      <td>MAINROAD  ENTRANCE GATE -MEGA BO</td>\n    </tr>\n    <tr>\n      <th>2</th>\n      <td>ab4d8e06-5f4e-428d-99a6-325d1d3593f7</td>\n      <td>2023-10-15T20:26:16.680547+05:30</td>\n      <td>2023-12-06T17:13:17.581218+05:30</td>\n      <td>d127a0</td>\n      <td>COMPLETED</td>\n      <td>72000</td>\n      <td>0</td>\n      <td>500</td>\n      <td>72500</td>\n      <td>NaN</td>\n      <td>...</td>\n      <td>72000</td>\n      <td>353317</td>\n      <td>72000</td>\n      <td>NaN</td>\n      <td>0</td>\n      <td>j.sri venkata gowtham</td>\n      <td>National Institute of Technology, Calicut</td>\n      <td>upi</td>\n      <td>49a25fd6-c0af-46c3-a5b5-584f19293c22</td>\n      <td>BLOCK B</td>\n    </tr>\n    <tr>\n      <th>3</th>\n      <td>c32091f1-26a7-4664-bbf3-97b006b5d625</td>\n      <td>2023-10-14T16:20:14.76221+05:30</td>\n      <td>2023-12-06T17:13:17.532478+05:30</td>\n      <td>1601b8</td>\n      <td>COMPLETED</td>\n      <td>12000</td>\n      <td>0</td>\n      <td>500</td>\n      <td>12500</td>\n      <td>NaN</td>\n      <td>...</td>\n      <td>12000</td>\n      <td>353310</td>\n      <td>12000</td>\n      <td>NaN</td>\n      <td>0</td>\n      <td>Janhavi</td>\n      <td>National Institute of Technology, Calicut</td>\n      <td>upi</td>\n      <td>09ea241e-2db2-42aa-b452-53e1f0b314cd</td>\n      <td>MAINROAD  ENTRANCE Gate  - MEGA</td>\n    </tr>\n    <tr>\n      <th>4</th>\n      <td>90fde31c-1be3-4857-a449-dd7b01679dd6</td>\n      <td>2023-09-25T20:13:01.833086+05:30</td>\n      <td>2023-12-06T17:13:17.473469+05:30</td>\n      <td>a31ea1</td>\n      <td>COMPLETED</td>\n      <td>200</td>\n      <td>0</td>\n      <td>0</td>\n      <td>200</td>\n      <td>NaN</td>\n      <td>...</td>\n      <td>100</td>\n      <td>352808</td>\n      <td>100</td>\n      <td>NaN</td>\n      <td>0</td>\n      <td>Madhusudan Agarwal</td>\n      <td>National Institute of Technology, Calicut</td>\n      <td>upi</td>\n      <td>db8d5d02-64d4-49ae-bb0b-135927833210</td>\n      <td>MAINROAD-MEGA BOYS HOSTEL ENTRAN</td>\n    </tr>\n    <tr>\n      <th>...</th>\n      <td>...</td>\n      <td>...</td>\n      <td>...</td>\n      <td>...</td>\n      <td>...</td>\n      <td>...</td>\n      <td>...</td>\n      <td>...</td>\n      <td>...</td>\n      <td>...</td>\n      <td>...</td>\n      <td>...</td>\n      <td>...</td>\n      <td>...</td>\n      <td>...</td>\n      <td>...</td>\n      <td>...</td>\n      <td>...</td>\n      <td>...</td>\n      <td>...</td>\n      <td>...</td>\n    </tr>\n    <tr>\n      <th>167422</th>\n      <td>35ae4a56-5dd4-4166-bb40-0e61d2e2bb9e</td>\n      <td>2023-06-04T14:11:00.506763+05:30</td>\n      <td>2023-06-07T22:19:43.517893+05:30</td>\n      <td>993f81</td>\n      <td>COMPLETED</td>\n      <td>12000</td>\n      <td>0</td>\n      <td>1000</td>\n      <td>13000</td>\n      <td>NaN</td>\n      <td>...</td>\n      <td>6000</td>\n      <td>180338</td>\n      <td>6000</td>\n      <td>NaN</td>\n      <td>0</td>\n      <td>sakshi</td>\n      <td>MAHE, KMC HOSTELS</td>\n      <td>upi</td>\n      <td>30941296-5393-494d-8e8f-06a8c82ed66c</td>\n      <td>NIH C Block / MIT students</td>\n    </tr>\n    <tr>\n      <th>167423</th>\n      <td>2567e93e-b9dc-44b8-960a-f9ea5d1b7789</td>\n      <td>2023-06-04T11:52:50.666237+05:30</td>\n      <td>2023-06-07T22:23:08.587979+05:30</td>\n      <td>47981a</td>\n      <td>COMPLETED</td>\n      <td>20500</td>\n      <td>0</td>\n      <td>2075</td>\n      <td>22575</td>\n      <td>NaN</td>\n      <td>...</td>\n      <td>20500</td>\n      <td>189512</td>\n      <td>20500</td>\n      <td>NaN</td>\n      <td>0</td>\n      <td>Rashmi</td>\n      <td>MAHE, KMC HOSTELS</td>\n      <td>upi</td>\n      <td>c33cc576-888c-4630-895e-8fc6b977dac5</td>\n      <td>Sharada Block</td>\n    </tr>\n    <tr>\n      <th>167424</th>\n      <td>dc27284a-72ed-4862-94b1-7530483ec12e</td>\n      <td>2023-06-04T09:35:43.365282+05:30</td>\n      <td>2023-06-07T22:24:03.920719+05:30</td>\n      <td>5b8d37</td>\n      <td>COMPLETED</td>\n      <td>10000</td>\n      <td>0</td>\n      <td>1500</td>\n      <td>11500</td>\n      <td>NaN</td>\n      <td>...</td>\n      <td>1000</td>\n      <td>204552</td>\n      <td>1000</td>\n      <td>NaN</td>\n      <td>0</td>\n      <td>vanshika saini</td>\n      <td>MAHE, KMC HOSTELS</td>\n      <td>upi</td>\n      <td>2e963897-7e9e-4142-854c-c54f5b01c4ec</td>\n      <td>Indira Block</td>\n    </tr>\n    <tr>\n      <th>167425</th>\n      <td>dc27284a-72ed-4862-94b1-7530483ec12e</td>\n      <td>2023-06-04T09:35:43.365282+05:30</td>\n      <td>2023-06-07T22:24:03.920719+05:30</td>\n      <td>5b8d37</td>\n      <td>COMPLETED</td>\n      <td>10000</td>\n      <td>0</td>\n      <td>1500</td>\n      <td>11500</td>\n      <td>NaN</td>\n      <td>...</td>\n      <td>8000</td>\n      <td>180416</td>\n      <td>8000</td>\n      <td>NaN</td>\n      <td>0</td>\n      <td>vanshika saini</td>\n      <td>MAHE, KMC HOSTELS</td>\n      <td>upi</td>\n      <td>2e963897-7e9e-4142-854c-c54f5b01c4ec</td>\n      <td>Indira Block</td>\n    </tr>\n    <tr>\n      <th>167426</th>\n      <td>dc27284a-72ed-4862-94b1-7530483ec12e</td>\n      <td>2023-06-04T09:35:43.365282+05:30</td>\n      <td>2023-06-07T22:24:03.920719+05:30</td>\n      <td>5b8d37</td>\n      <td>COMPLETED</td>\n      <td>10000</td>\n      <td>0</td>\n      <td>1500</td>\n      <td>11500</td>\n      <td>NaN</td>\n      <td>...</td>\n      <td>1000</td>\n      <td>204553</td>\n      <td>1000</td>\n      <td>NaN</td>\n      <td>0</td>\n      <td>vanshika saini</td>\n      <td>MAHE, KMC HOSTELS</td>\n      <td>upi</td>\n      <td>2e963897-7e9e-4142-854c-c54f5b01c4ec</td>\n      <td>Indira Block</td>\n    </tr>\n  </tbody>\n</table>\n<p>167427 rows × 39 columns</p>\n</div>"
     },
     "metadata": {}
    }
   ]
  },
  {
   "cell_type": "markdown",
   "source": [
    "# Preprocess and clean the dataset\n",
    "Most of our preprocessing and cleaning has been done in the previous assignment.\n",
    "Here we are dropping all the irrelevant columns and handling discrepancies in the monetary data."
   ],
   "metadata": {}
  },
  {
   "cell_type": "code",
   "source": [
    "df = df.drop(['Order Order Item → Info → Sku Charges', 'Order Order Item → Business Comission', 'Customer → Profile Name'], axis=1)\n",
    "condition = 'test'\n",
    "df = df[~df['Order Order Item → Info → Product Name'].str.lower().str.contains(condition.lower())]\n",
    "df = df.drop(['Order Order Item → Info → Unit Name'], axis=1)\n",
    "df = df.dropna(subset=['Delivery Fulfillment → Info → Delivery Address → Address ID', 'Delivery Fulfillment → Info → Delivery Address → Address Name'])\n",
    "df = df.drop(['Order Status'], axis=1)\n",
    "df = df.drop(['Cluster → Cluster Name'], axis=1)\n",
    "df=df.drop(['Rating Comment'], axis=1)\n",
    "df = df.drop(['External ID'], axis=1)\n",
    "df = df.drop(['Payment V2 ID'], axis=1)\n",
    "df = df.drop(['Business Comission'], axis=1)\n",
    "df = df.drop(['Order Order Item → Rating Val'], axis=1)\n",
    "df = df.drop(['Delivery Fulfillment ID'], axis=1)\n",
    "df = df.drop(['Platform Charge'], axis=1)\n",
    "df = df.drop(['Order Order Item → Info → Prop → Quant → Unit'], axis=1)\n",
    "df = df.drop(['Order Order Item → Info → Prop → Quant → Val'], axis=1)\n",
    "df = df.drop(['Order Order Item → Unit Price With Addon'], axis=1)\n",
    "monetary_cols = ['Item Total', 'Delivery Charges', 'Other Charges', 'Order Total', 'Offer Discount', 'Order Order Item → Unit Price']\n",
    "\n",
    "# Divide the values in the specified columns by 100\n",
    "df[monetary_cols] = df[monetary_cols] / 100\n",
    "df.head()"
   ],
   "metadata": {
    "execution": {
     "iopub.status.busy": "2024-03-12T06:17:17.885234Z",
     "iopub.execute_input": "2024-03-12T06:17:17.885984Z",
     "iopub.status.idle": "2024-03-12T06:17:18.436341Z",
     "shell.execute_reply.started": "2024-03-12T06:17:17.885955Z",
     "shell.execute_reply": "2024-03-12T06:17:18.435478Z"
    },
    "trusted": true
   },
   "execution_count": 2,
   "outputs": [
    {
     "execution_count": 2,
     "output_type": "execute_result",
     "data": {
      "text/plain": "                            Created                          Modified  \\\n0  2023-11-05T13:56:08.498625+05:30  2023-12-29T12:55:12.031871+05:30   \n1  2023-11-05T13:56:08.498625+05:30  2023-12-29T12:55:12.031871+05:30   \n2  2023-10-15T20:26:16.680547+05:30  2023-12-06T17:13:17.581218+05:30   \n3   2023-10-14T16:20:14.76221+05:30  2023-12-06T17:13:17.532478+05:30   \n7  2023-10-16T18:08:19.088519+05:30  2023-12-06T17:13:17.330249+05:30   \n\n  Order Short Number  Item Total  Delivery Charges  Other Charges  \\\n0             05ccdc       100.0               0.0            5.0   \n1             05ccdc       100.0               0.0            5.0   \n2             d127a0       720.0               0.0            5.0   \n3             1601b8       120.0               0.0            5.0   \n7             472d13       450.0               0.0            5.0   \n\n   Order Total  Rating Value  Business ID  Customer ID  ...  \\\n0        105.0           2.0         8786        61014  ...   \n1        105.0           2.0         8786        61014  ...   \n2        725.0           NaN         8753        61524  ...   \n3        125.0           NaN         8753        61421  ...   \n7        435.0           NaN         8753        61246  ...   \n\n   Business → Business Name  Order Order Item → ID  \\\n0          ZAIKA RESTAURANT                1662517   \n1          ZAIKA RESTAURANT                1662518   \n2       FOODIE'S RESTAURANT                1600475   \n3       FOODIE'S RESTAURANT                1594604   \n7       FOODIE'S RESTAURANT                1602916   \n\n  Order Order Item → Info → Product Name Order Order Item → Info → Sku Code  \\\n0                   Egg Parotta Sandwich                        31648528592   \n1                        Omelette Burger                        31612793842   \n2                       Peri Peri Mandhi                         3147727652   \n3                     Hyderabadi Biryani                        31476910635   \n7                        Chicken Noodles                         3147163779   \n\n   Order Order Item → Quantity Order Order Item → Unit Price  \\\n0                            1                          50.0   \n1                            1                          50.0   \n2                            1                         720.0   \n3                            1                         120.0   \n7                            3                         150.0   \n\n  Order Order Item → Product Sk U ID  Payment V2 → Info → Pay Via  \\\n0                             355521                          upi   \n1                             355153                          upi   \n2                             353317                          upi   \n3                             353310                          upi   \n7                             353251                          upi   \n\n   Delivery Fulfillment → Info → Delivery Address → Address ID  \\\n0               db8d5d02-64d4-49ae-bb0b-135927833210             \n1               db8d5d02-64d4-49ae-bb0b-135927833210             \n2               49a25fd6-c0af-46c3-a5b5-584f19293c22             \n3               09ea241e-2db2-42aa-b452-53e1f0b314cd             \n7               49a25fd6-c0af-46c3-a5b5-584f19293c22             \n\n   Delivery Fulfillment → Info → Delivery Address → Address Name  \n0                   MAINROAD  ENTRANCE GATE -MEGA BO              \n1                   MAINROAD  ENTRANCE GATE -MEGA BO              \n2                                            BLOCK B              \n3                   MAINROAD  ENTRANCE Gate  - MEGA               \n7                                            BLOCK B              \n\n[5 rows x 23 columns]",
      "text/html": "<div>\n<style scoped>\n    .dataframe tbody tr th:only-of-type {\n        vertical-align: middle;\n    }\n\n    .dataframe tbody tr th {\n        vertical-align: top;\n    }\n\n    .dataframe thead th {\n        text-align: right;\n    }\n</style>\n<table border=\"1\" class=\"dataframe\">\n  <thead>\n    <tr style=\"text-align: right;\">\n      <th></th>\n      <th>Created</th>\n      <th>Modified</th>\n      <th>Order Short Number</th>\n      <th>Item Total</th>\n      <th>Delivery Charges</th>\n      <th>Other Charges</th>\n      <th>Order Total</th>\n      <th>Rating Value</th>\n      <th>Business ID</th>\n      <th>Customer ID</th>\n      <th>...</th>\n      <th>Business → Business Name</th>\n      <th>Order Order Item → ID</th>\n      <th>Order Order Item → Info → Product Name</th>\n      <th>Order Order Item → Info → Sku Code</th>\n      <th>Order Order Item → Quantity</th>\n      <th>Order Order Item → Unit Price</th>\n      <th>Order Order Item → Product Sk U ID</th>\n      <th>Payment V2 → Info → Pay Via</th>\n      <th>Delivery Fulfillment → Info → Delivery Address → Address ID</th>\n      <th>Delivery Fulfillment → Info → Delivery Address → Address Name</th>\n    </tr>\n  </thead>\n  <tbody>\n    <tr>\n      <th>0</th>\n      <td>2023-11-05T13:56:08.498625+05:30</td>\n      <td>2023-12-29T12:55:12.031871+05:30</td>\n      <td>05ccdc</td>\n      <td>100.0</td>\n      <td>0.0</td>\n      <td>5.0</td>\n      <td>105.0</td>\n      <td>2.0</td>\n      <td>8786</td>\n      <td>61014</td>\n      <td>...</td>\n      <td>ZAIKA RESTAURANT</td>\n      <td>1662517</td>\n      <td>Egg Parotta Sandwich</td>\n      <td>31648528592</td>\n      <td>1</td>\n      <td>50.0</td>\n      <td>355521</td>\n      <td>upi</td>\n      <td>db8d5d02-64d4-49ae-bb0b-135927833210</td>\n      <td>MAINROAD  ENTRANCE GATE -MEGA BO</td>\n    </tr>\n    <tr>\n      <th>1</th>\n      <td>2023-11-05T13:56:08.498625+05:30</td>\n      <td>2023-12-29T12:55:12.031871+05:30</td>\n      <td>05ccdc</td>\n      <td>100.0</td>\n      <td>0.0</td>\n      <td>5.0</td>\n      <td>105.0</td>\n      <td>2.0</td>\n      <td>8786</td>\n      <td>61014</td>\n      <td>...</td>\n      <td>ZAIKA RESTAURANT</td>\n      <td>1662518</td>\n      <td>Omelette Burger</td>\n      <td>31612793842</td>\n      <td>1</td>\n      <td>50.0</td>\n      <td>355153</td>\n      <td>upi</td>\n      <td>db8d5d02-64d4-49ae-bb0b-135927833210</td>\n      <td>MAINROAD  ENTRANCE GATE -MEGA BO</td>\n    </tr>\n    <tr>\n      <th>2</th>\n      <td>2023-10-15T20:26:16.680547+05:30</td>\n      <td>2023-12-06T17:13:17.581218+05:30</td>\n      <td>d127a0</td>\n      <td>720.0</td>\n      <td>0.0</td>\n      <td>5.0</td>\n      <td>725.0</td>\n      <td>NaN</td>\n      <td>8753</td>\n      <td>61524</td>\n      <td>...</td>\n      <td>FOODIE'S RESTAURANT</td>\n      <td>1600475</td>\n      <td>Peri Peri Mandhi</td>\n      <td>3147727652</td>\n      <td>1</td>\n      <td>720.0</td>\n      <td>353317</td>\n      <td>upi</td>\n      <td>49a25fd6-c0af-46c3-a5b5-584f19293c22</td>\n      <td>BLOCK B</td>\n    </tr>\n    <tr>\n      <th>3</th>\n      <td>2023-10-14T16:20:14.76221+05:30</td>\n      <td>2023-12-06T17:13:17.532478+05:30</td>\n      <td>1601b8</td>\n      <td>120.0</td>\n      <td>0.0</td>\n      <td>5.0</td>\n      <td>125.0</td>\n      <td>NaN</td>\n      <td>8753</td>\n      <td>61421</td>\n      <td>...</td>\n      <td>FOODIE'S RESTAURANT</td>\n      <td>1594604</td>\n      <td>Hyderabadi Biryani</td>\n      <td>31476910635</td>\n      <td>1</td>\n      <td>120.0</td>\n      <td>353310</td>\n      <td>upi</td>\n      <td>09ea241e-2db2-42aa-b452-53e1f0b314cd</td>\n      <td>MAINROAD  ENTRANCE Gate  - MEGA</td>\n    </tr>\n    <tr>\n      <th>7</th>\n      <td>2023-10-16T18:08:19.088519+05:30</td>\n      <td>2023-12-06T17:13:17.330249+05:30</td>\n      <td>472d13</td>\n      <td>450.0</td>\n      <td>0.0</td>\n      <td>5.0</td>\n      <td>435.0</td>\n      <td>NaN</td>\n      <td>8753</td>\n      <td>61246</td>\n      <td>...</td>\n      <td>FOODIE'S RESTAURANT</td>\n      <td>1602916</td>\n      <td>Chicken Noodles</td>\n      <td>3147163779</td>\n      <td>3</td>\n      <td>150.0</td>\n      <td>353251</td>\n      <td>upi</td>\n      <td>49a25fd6-c0af-46c3-a5b5-584f19293c22</td>\n      <td>BLOCK B</td>\n    </tr>\n  </tbody>\n</table>\n<p>5 rows × 23 columns</p>\n</div>"
     },
     "metadata": {}
    }
   ]
  },
  {
   "cell_type": "markdown",
   "source": [
    "# Retain only the orders of cluster 48\n",
    "Right now, we will only be working on the data from NITK, which corresponds to cluster ID 48"
   ],
   "metadata": {}
  },
  {
   "cell_type": "code",
   "source": [
    "df.columns"
   ],
   "metadata": {
    "execution": {
     "iopub.status.busy": "2024-03-12T06:17:18.437311Z",
     "iopub.execute_input": "2024-03-12T06:17:18.438901Z",
     "iopub.status.idle": "2024-03-12T06:17:18.444770Z",
     "shell.execute_reply.started": "2024-03-12T06:17:18.438847Z",
     "shell.execute_reply": "2024-03-12T06:17:18.443989Z"
    },
    "trusted": true
   },
   "execution_count": 3,
   "outputs": [
    {
     "execution_count": 3,
     "output_type": "execute_result",
     "data": {
      "text/plain": "Index(['Created', 'Modified', 'Order Short Number', 'Item Total',\n       'Delivery Charges', 'Other Charges', 'Order Total', 'Rating Value',\n       'Business ID', 'Customer ID', 'Offer Discount', 'Cluster ID',\n       'Order Status Modified Dt', 'Business → Business Name',\n       'Order Order Item → ID', 'Order Order Item → Info → Product Name',\n       'Order Order Item → Info → Sku Code', 'Order Order Item → Quantity',\n       'Order Order Item → Unit Price', 'Order Order Item → Product Sk U ID',\n       'Payment V2 → Info → Pay Via',\n       'Delivery Fulfillment → Info → Delivery Address → Address ID',\n       'Delivery Fulfillment → Info → Delivery Address → Address Name'],\n      dtype='object')"
     },
     "metadata": {}
    }
   ]
  },
  {
   "cell_type": "markdown",
   "source": [
    "Filter the dataset by retaining only the rows that have value 48 for cluster ID"
   ],
   "metadata": {}
  },
  {
   "cell_type": "code",
   "source": [
    "nitk_df = df[df['Cluster ID'] == 48]\n",
    "nitk_df.columns\n"
   ],
   "metadata": {
    "execution": {
     "iopub.status.busy": "2024-03-12T06:17:18.446748Z",
     "iopub.execute_input": "2024-03-12T06:17:18.447265Z",
     "iopub.status.idle": "2024-03-12T06:17:18.473975Z",
     "shell.execute_reply.started": "2024-03-12T06:17:18.447234Z",
     "shell.execute_reply": "2024-03-12T06:17:18.473127Z"
    },
    "trusted": true
   },
   "execution_count": 4,
   "outputs": [
    {
     "execution_count": 4,
     "output_type": "execute_result",
     "data": {
      "text/plain": "Index(['Created', 'Modified', 'Order Short Number', 'Item Total',\n       'Delivery Charges', 'Other Charges', 'Order Total', 'Rating Value',\n       'Business ID', 'Customer ID', 'Offer Discount', 'Cluster ID',\n       'Order Status Modified Dt', 'Business → Business Name',\n       'Order Order Item → ID', 'Order Order Item → Info → Product Name',\n       'Order Order Item → Info → Sku Code', 'Order Order Item → Quantity',\n       'Order Order Item → Unit Price', 'Order Order Item → Product Sk U ID',\n       'Payment V2 → Info → Pay Via',\n       'Delivery Fulfillment → Info → Delivery Address → Address ID',\n       'Delivery Fulfillment → Info → Delivery Address → Address Name'],\n      dtype='object')"
     },
     "metadata": {}
    }
   ]
  },
  {
   "cell_type": "code",
   "source": [
    "columns_to_remove = ['Delivery Fulfillment → Info → Delivery Address → Address ID',\n",
    "                     'Payment V2 → Info → Pay Via',\n",
    "                     'Order Order Item → Product Sk U ID',\n",
    "                     'Order Order Item → Info → Sku Code',\n",
    "                     'Order Status Modified Dt',\n",
    "                     'Offer Discount',\n",
    "                     'Rating Value',\n",
    "                     'Delivery Charges',\n",
    "                     'Other Charges',\n",
    "                     'Order Order Item → ID',\n",
    "                     'Item Total',\n",
    "                     'Cluster ID',\n",
    "                     'Modified']\n",
    "\n",
    "# Drop the specified columns\n",
    "nitk_df = nitk_df.drop(columns=columns_to_remove)"
   ],
   "metadata": {
    "execution": {
     "iopub.status.busy": "2024-03-12T06:17:18.475211Z",
     "iopub.execute_input": "2024-03-12T06:17:18.475956Z",
     "iopub.status.idle": "2024-03-12T06:17:18.487245Z",
     "shell.execute_reply.started": "2024-03-12T06:17:18.475927Z",
     "shell.execute_reply": "2024-03-12T06:17:18.486604Z"
    },
    "trusted": true
   },
   "execution_count": 5,
   "outputs": []
  },
  {
   "cell_type": "code",
   "source": [
    "nitk_df.columns"
   ],
   "metadata": {
    "execution": {
     "iopub.status.busy": "2024-03-12T06:17:18.488945Z",
     "iopub.execute_input": "2024-03-12T06:17:18.489216Z",
     "iopub.status.idle": "2024-03-12T06:17:18.500000Z",
     "shell.execute_reply.started": "2024-03-12T06:17:18.489189Z",
     "shell.execute_reply": "2024-03-12T06:17:18.499375Z"
    },
    "trusted": true
   },
   "execution_count": 6,
   "outputs": [
    {
     "execution_count": 6,
     "output_type": "execute_result",
     "data": {
      "text/plain": "Index(['Created', 'Order Short Number', 'Order Total', 'Business ID',\n       'Customer ID', 'Business → Business Name',\n       'Order Order Item → Info → Product Name', 'Order Order Item → Quantity',\n       'Order Order Item → Unit Price',\n       'Delivery Fulfillment → Info → Delivery Address → Address Name'],\n      dtype='object')"
     },
     "metadata": {}
    }
   ]
  },
  {
   "cell_type": "code",
   "source": [
    "nitk_df"
   ],
   "metadata": {
    "execution": {
     "iopub.status.busy": "2024-03-12T06:17:18.502693Z",
     "iopub.execute_input": "2024-03-12T06:17:18.502904Z",
     "iopub.status.idle": "2024-03-12T06:17:18.519653Z",
     "shell.execute_reply.started": "2024-03-12T06:17:18.502885Z",
     "shell.execute_reply": "2024-03-12T06:17:18.518890Z"
    },
    "trusted": true
   },
   "execution_count": 7,
   "outputs": [
    {
     "execution_count": 7,
     "output_type": "execute_result",
     "data": {
      "text/plain": "                                 Created Order Short Number  Order Total  \\\n84094   2023-09-17T01:27:12.344257+05:30             471ec2         67.0   \n84095    2023-06-07T21:32:54.81317+05:30             ede0fc         55.0   \n84096   2023-11-09T00:48:01.795612+05:30             82859c        192.0   \n84097   2023-11-09T00:48:01.795612+05:30             82859c        192.0   \n84098   2023-11-09T00:48:01.795612+05:30             82859c        192.0   \n...                                  ...                ...          ...   \n164269  2023-06-04T01:16:30.691716+05:30             df0158        120.0   \n164270  2023-06-04T01:16:30.691716+05:30             df0158        120.0   \n164271  2023-06-04T01:24:23.059418+05:30             ea6c7d        110.0   \n164272  2023-06-04T01:16:12.464912+05:30             332894        105.0   \n164273  2023-06-04T01:11:56.051809+05:30             74f15a         60.0   \n\n        Business ID  Customer ID  \\\n84094          4583        57170   \n84095          4150        17715   \n84096          3496        63194   \n84097          3496        63194   \n84098          3496        63194   \n...             ...          ...   \n164269         4150        37417   \n164270         4150        37417   \n164271         4150        30169   \n164272         4150        34915   \n164273         4150        27019   \n\n                                 Business → Business Name  \\\n84094                         Girls Hostel, Night Canteen   \n84095   Tripthi Night Canteen ( NITK 8th Block Night C...   \n84096   Sai Hospitality Services NITK 7th Block Night ...   \n84097   Sai Hospitality Services NITK 7th Block Night ...   \n84098   Sai Hospitality Services NITK 7th Block Night ...   \n...                                                   ...   \n164269  Tripthi Night Canteen ( NITK 8th Block Night C...   \n164270  Tripthi Night Canteen ( NITK 8th Block Night C...   \n164271  Tripthi Night Canteen ( NITK 8th Block Night C...   \n164272  Tripthi Night Canteen ( NITK 8th Block Night C...   \n164273  Tripthi Night Canteen ( NITK 8th Block Night C...   \n\n       Order Order Item → Info → Product Name  Order Order Item → Quantity  \\\n84094                            Double Omlet                            2   \n84095                             Dal Kichdi.                            1   \n84096              Roll Shawarma Only Chicken                            1   \n84097                                  Parota                            2   \n84098                          Chicken Masala                            1   \n...                                       ...                          ...   \n164269                        Egg Fried Rice.                            1   \n164270                            Aloo Parota                            2   \n164271                 meat   plate shawarama                            1   \n164272        Meat Plt Shwarma (ONLY CHICKEN)                            1   \n164273                     Dal Kichdi Thadka.                            1   \n\n        Order Order Item → Unit Price  \\\n84094                            30.0   \n84095                            50.0   \n84096                            80.0   \n84097                            15.0   \n84098                            75.0   \n...                               ...   \n164269                           55.0   \n164270                           30.0   \n164271                          105.0   \n164272                          100.0   \n164273                           55.0   \n\n       Delivery Fulfillment → Info → Delivery Address → Address Name  \n84094                                               Other             \n84095                    Kailash Hostel ( Orange Tower )              \n84096                    Pushpagiri Hostel ( Old PG Block             \n84097                    Pushpagiri Hostel ( Old PG Block             \n84098                    Pushpagiri Hostel ( Old PG Block             \n...                                                   ...             \n164269                                 Girls Hostel Block             \n164270                                 Girls Hostel Block             \n164271                       Vindhya Hostel ( 3rd Block )             \n164272                       Nilgiri Hostel ( 5th Block )             \n164273                                 Girls Hostel Block             \n\n[79400 rows x 10 columns]",
      "text/html": "<div>\n<style scoped>\n    .dataframe tbody tr th:only-of-type {\n        vertical-align: middle;\n    }\n\n    .dataframe tbody tr th {\n        vertical-align: top;\n    }\n\n    .dataframe thead th {\n        text-align: right;\n    }\n</style>\n<table border=\"1\" class=\"dataframe\">\n  <thead>\n    <tr style=\"text-align: right;\">\n      <th></th>\n      <th>Created</th>\n      <th>Order Short Number</th>\n      <th>Order Total</th>\n      <th>Business ID</th>\n      <th>Customer ID</th>\n      <th>Business → Business Name</th>\n      <th>Order Order Item → Info → Product Name</th>\n      <th>Order Order Item → Quantity</th>\n      <th>Order Order Item → Unit Price</th>\n      <th>Delivery Fulfillment → Info → Delivery Address → Address Name</th>\n    </tr>\n  </thead>\n  <tbody>\n    <tr>\n      <th>84094</th>\n      <td>2023-09-17T01:27:12.344257+05:30</td>\n      <td>471ec2</td>\n      <td>67.0</td>\n      <td>4583</td>\n      <td>57170</td>\n      <td>Girls Hostel, Night Canteen</td>\n      <td>Double Omlet</td>\n      <td>2</td>\n      <td>30.0</td>\n      <td>Other</td>\n    </tr>\n    <tr>\n      <th>84095</th>\n      <td>2023-06-07T21:32:54.81317+05:30</td>\n      <td>ede0fc</td>\n      <td>55.0</td>\n      <td>4150</td>\n      <td>17715</td>\n      <td>Tripthi Night Canteen ( NITK 8th Block Night C...</td>\n      <td>Dal Kichdi.</td>\n      <td>1</td>\n      <td>50.0</td>\n      <td>Kailash Hostel ( Orange Tower )</td>\n    </tr>\n    <tr>\n      <th>84096</th>\n      <td>2023-11-09T00:48:01.795612+05:30</td>\n      <td>82859c</td>\n      <td>192.0</td>\n      <td>3496</td>\n      <td>63194</td>\n      <td>Sai Hospitality Services NITK 7th Block Night ...</td>\n      <td>Roll Shawarma Only Chicken</td>\n      <td>1</td>\n      <td>80.0</td>\n      <td>Pushpagiri Hostel ( Old PG Block</td>\n    </tr>\n    <tr>\n      <th>84097</th>\n      <td>2023-11-09T00:48:01.795612+05:30</td>\n      <td>82859c</td>\n      <td>192.0</td>\n      <td>3496</td>\n      <td>63194</td>\n      <td>Sai Hospitality Services NITK 7th Block Night ...</td>\n      <td>Parota</td>\n      <td>2</td>\n      <td>15.0</td>\n      <td>Pushpagiri Hostel ( Old PG Block</td>\n    </tr>\n    <tr>\n      <th>84098</th>\n      <td>2023-11-09T00:48:01.795612+05:30</td>\n      <td>82859c</td>\n      <td>192.0</td>\n      <td>3496</td>\n      <td>63194</td>\n      <td>Sai Hospitality Services NITK 7th Block Night ...</td>\n      <td>Chicken Masala</td>\n      <td>1</td>\n      <td>75.0</td>\n      <td>Pushpagiri Hostel ( Old PG Block</td>\n    </tr>\n    <tr>\n      <th>...</th>\n      <td>...</td>\n      <td>...</td>\n      <td>...</td>\n      <td>...</td>\n      <td>...</td>\n      <td>...</td>\n      <td>...</td>\n      <td>...</td>\n      <td>...</td>\n      <td>...</td>\n    </tr>\n    <tr>\n      <th>164269</th>\n      <td>2023-06-04T01:16:30.691716+05:30</td>\n      <td>df0158</td>\n      <td>120.0</td>\n      <td>4150</td>\n      <td>37417</td>\n      <td>Tripthi Night Canteen ( NITK 8th Block Night C...</td>\n      <td>Egg Fried Rice.</td>\n      <td>1</td>\n      <td>55.0</td>\n      <td>Girls Hostel Block</td>\n    </tr>\n    <tr>\n      <th>164270</th>\n      <td>2023-06-04T01:16:30.691716+05:30</td>\n      <td>df0158</td>\n      <td>120.0</td>\n      <td>4150</td>\n      <td>37417</td>\n      <td>Tripthi Night Canteen ( NITK 8th Block Night C...</td>\n      <td>Aloo Parota</td>\n      <td>2</td>\n      <td>30.0</td>\n      <td>Girls Hostel Block</td>\n    </tr>\n    <tr>\n      <th>164271</th>\n      <td>2023-06-04T01:24:23.059418+05:30</td>\n      <td>ea6c7d</td>\n      <td>110.0</td>\n      <td>4150</td>\n      <td>30169</td>\n      <td>Tripthi Night Canteen ( NITK 8th Block Night C...</td>\n      <td>meat   plate shawarama</td>\n      <td>1</td>\n      <td>105.0</td>\n      <td>Vindhya Hostel ( 3rd Block )</td>\n    </tr>\n    <tr>\n      <th>164272</th>\n      <td>2023-06-04T01:16:12.464912+05:30</td>\n      <td>332894</td>\n      <td>105.0</td>\n      <td>4150</td>\n      <td>34915</td>\n      <td>Tripthi Night Canteen ( NITK 8th Block Night C...</td>\n      <td>Meat Plt Shwarma (ONLY CHICKEN)</td>\n      <td>1</td>\n      <td>100.0</td>\n      <td>Nilgiri Hostel ( 5th Block )</td>\n    </tr>\n    <tr>\n      <th>164273</th>\n      <td>2023-06-04T01:11:56.051809+05:30</td>\n      <td>74f15a</td>\n      <td>60.0</td>\n      <td>4150</td>\n      <td>27019</td>\n      <td>Tripthi Night Canteen ( NITK 8th Block Night C...</td>\n      <td>Dal Kichdi Thadka.</td>\n      <td>1</td>\n      <td>55.0</td>\n      <td>Girls Hostel Block</td>\n    </tr>\n  </tbody>\n</table>\n<p>79400 rows × 10 columns</p>\n</div>"
     },
     "metadata": {}
    }
   ]
  },
  {
   "cell_type": "markdown",
   "source": [
    "We are getting the data ready to be fed into the apriori algorithm\n",
    "\n",
    "- The data was at the level of items of an order. \n",
    "- Meaning every item of each order was a row on this, we have compiled all the items of the order in a list and have made the dataset at order level.\n",
    "- This is important because we will need this data in form of transactions for the algorithm\n"
   ],
   "metadata": {}
  },
  {
   "cell_type": "code",
   "source": [
    "columns_to_agg = [\n",
    "                  'Order Order Item → Info → Product Name',\n",
    "                  'Order Order Item → Quantity',\n",
    "                  'Order Order Item → Unit Price']\n",
    "\n",
    "aggregated_df = nitk_df.groupby('Order Short Number').agg({col: list for col in columns_to_agg}).reset_index()"
   ],
   "metadata": {
    "execution": {
     "iopub.status.busy": "2024-03-12T06:17:18.520877Z",
     "iopub.execute_input": "2024-03-12T06:17:18.521389Z",
     "iopub.status.idle": "2024-03-12T06:17:20.929912Z",
     "shell.execute_reply.started": "2024-03-12T06:17:18.521362Z",
     "shell.execute_reply": "2024-03-12T06:17:20.929121Z"
    },
    "trusted": true
   },
   "execution_count": 8,
   "outputs": []
  },
  {
   "cell_type": "code",
   "source": [
    "columns_to_retain = ['Created', 'Order Short Number', 'Business ID', 'Customer ID', 'Business → Business Name', 'Delivery Fulfillment → Info → Delivery Address → Address Name', 'Order Total']\n",
    "nitk_df = pd.merge(nitk_df[columns_to_retain], aggregated_df, on='Order Short Number', how='left')"
   ],
   "metadata": {
    "execution": {
     "iopub.status.busy": "2024-03-12T06:17:20.930951Z",
     "iopub.execute_input": "2024-03-12T06:17:20.931256Z",
     "iopub.status.idle": "2024-03-12T06:17:20.986272Z",
     "shell.execute_reply.started": "2024-03-12T06:17:20.931228Z",
     "shell.execute_reply": "2024-03-12T06:17:20.985196Z"
    },
    "trusted": true
   },
   "execution_count": 9,
   "outputs": []
  },
  {
   "cell_type": "code",
   "source": [
    "nitk_df['Created'] = pd.to_datetime(nitk_df['Created'])\n",
    "nitk_df['Created'] = nitk_df['Created'].dt.strftime('%Y-%m-%d %H:%M:%S')\n",
    "nitk_df"
   ],
   "metadata": {
    "execution": {
     "iopub.status.busy": "2024-03-12T06:17:20.989553Z",
     "iopub.execute_input": "2024-03-12T06:17:20.990313Z",
     "iopub.status.idle": "2024-03-12T06:17:21.966959Z",
     "shell.execute_reply.started": "2024-03-12T06:17:20.990265Z",
     "shell.execute_reply": "2024-03-12T06:17:21.965494Z"
    },
    "trusted": true
   },
   "execution_count": 10,
   "outputs": [
    {
     "execution_count": 10,
     "output_type": "execute_result",
     "data": {
      "text/plain": "                   Created Order Short Number  Business ID  Customer ID  \\\n0      2023-09-17 01:27:12             471ec2         4583        57170   \n1      2023-06-07 21:32:54             ede0fc         4150        17715   \n2      2023-11-09 00:48:01             82859c         3496        63194   \n3      2023-11-09 00:48:01             82859c         3496        63194   \n4      2023-11-09 00:48:01             82859c         3496        63194   \n...                    ...                ...          ...          ...   \n79395  2023-06-04 01:16:30             df0158         4150        37417   \n79396  2023-06-04 01:16:30             df0158         4150        37417   \n79397  2023-06-04 01:24:23             ea6c7d         4150        30169   \n79398  2023-06-04 01:16:12             332894         4150        34915   \n79399  2023-06-04 01:11:56             74f15a         4150        27019   \n\n                                Business → Business Name  \\\n0                            Girls Hostel, Night Canteen   \n1      Tripthi Night Canteen ( NITK 8th Block Night C...   \n2      Sai Hospitality Services NITK 7th Block Night ...   \n3      Sai Hospitality Services NITK 7th Block Night ...   \n4      Sai Hospitality Services NITK 7th Block Night ...   \n...                                                  ...   \n79395  Tripthi Night Canteen ( NITK 8th Block Night C...   \n79396  Tripthi Night Canteen ( NITK 8th Block Night C...   \n79397  Tripthi Night Canteen ( NITK 8th Block Night C...   \n79398  Tripthi Night Canteen ( NITK 8th Block Night C...   \n79399  Tripthi Night Canteen ( NITK 8th Block Night C...   \n\n      Delivery Fulfillment → Info → Delivery Address → Address Name  \\\n0                                                  Other              \n1                       Kailash Hostel ( Orange Tower )               \n2                       Pushpagiri Hostel ( Old PG Block              \n3                       Pushpagiri Hostel ( Old PG Block              \n4                       Pushpagiri Hostel ( Old PG Block              \n...                                                  ...              \n79395                                 Girls Hostel Block              \n79396                                 Girls Hostel Block              \n79397                       Vindhya Hostel ( 3rd Block )              \n79398                       Nilgiri Hostel ( 5th Block )              \n79399                                 Girls Hostel Block              \n\n       Order Total             Order Order Item → Info → Product Name  \\\n0             67.0                                     [Double Omlet]   \n1             55.0                                      [Dal Kichdi.]   \n2            192.0  [Roll Shawarma Only Chicken, Parota, Chicken M...   \n3            192.0  [Roll Shawarma Only Chicken, Parota, Chicken M...   \n4            192.0  [Roll Shawarma Only Chicken, Parota, Chicken M...   \n...            ...                                                ...   \n79395        120.0                     [Egg Fried Rice., Aloo Parota]   \n79396        120.0                     [Egg Fried Rice., Aloo Parota]   \n79397        110.0                           [meat   plate shawarama]   \n79398        105.0                  [Meat Plt Shwarma (ONLY CHICKEN)]   \n79399         60.0                               [Dal Kichdi Thadka.]   \n\n      Order Order Item → Quantity Order Order Item → Unit Price  \n0                             [2]                        [30.0]  \n1                             [1]                        [50.0]  \n2                       [1, 2, 1]            [80.0, 15.0, 75.0]  \n3                       [1, 2, 1]            [80.0, 15.0, 75.0]  \n4                       [1, 2, 1]            [80.0, 15.0, 75.0]  \n...                           ...                           ...  \n79395                      [1, 2]                  [55.0, 30.0]  \n79396                      [1, 2]                  [55.0, 30.0]  \n79397                         [1]                       [105.0]  \n79398                         [1]                       [100.0]  \n79399                         [1]                        [55.0]  \n\n[79400 rows x 10 columns]",
      "text/html": "<div>\n<style scoped>\n    .dataframe tbody tr th:only-of-type {\n        vertical-align: middle;\n    }\n\n    .dataframe tbody tr th {\n        vertical-align: top;\n    }\n\n    .dataframe thead th {\n        text-align: right;\n    }\n</style>\n<table border=\"1\" class=\"dataframe\">\n  <thead>\n    <tr style=\"text-align: right;\">\n      <th></th>\n      <th>Created</th>\n      <th>Order Short Number</th>\n      <th>Business ID</th>\n      <th>Customer ID</th>\n      <th>Business → Business Name</th>\n      <th>Delivery Fulfillment → Info → Delivery Address → Address Name</th>\n      <th>Order Total</th>\n      <th>Order Order Item → Info → Product Name</th>\n      <th>Order Order Item → Quantity</th>\n      <th>Order Order Item → Unit Price</th>\n    </tr>\n  </thead>\n  <tbody>\n    <tr>\n      <th>0</th>\n      <td>2023-09-17 01:27:12</td>\n      <td>471ec2</td>\n      <td>4583</td>\n      <td>57170</td>\n      <td>Girls Hostel, Night Canteen</td>\n      <td>Other</td>\n      <td>67.0</td>\n      <td>[Double Omlet]</td>\n      <td>[2]</td>\n      <td>[30.0]</td>\n    </tr>\n    <tr>\n      <th>1</th>\n      <td>2023-06-07 21:32:54</td>\n      <td>ede0fc</td>\n      <td>4150</td>\n      <td>17715</td>\n      <td>Tripthi Night Canteen ( NITK 8th Block Night C...</td>\n      <td>Kailash Hostel ( Orange Tower )</td>\n      <td>55.0</td>\n      <td>[Dal Kichdi.]</td>\n      <td>[1]</td>\n      <td>[50.0]</td>\n    </tr>\n    <tr>\n      <th>2</th>\n      <td>2023-11-09 00:48:01</td>\n      <td>82859c</td>\n      <td>3496</td>\n      <td>63194</td>\n      <td>Sai Hospitality Services NITK 7th Block Night ...</td>\n      <td>Pushpagiri Hostel ( Old PG Block</td>\n      <td>192.0</td>\n      <td>[Roll Shawarma Only Chicken, Parota, Chicken M...</td>\n      <td>[1, 2, 1]</td>\n      <td>[80.0, 15.0, 75.0]</td>\n    </tr>\n    <tr>\n      <th>3</th>\n      <td>2023-11-09 00:48:01</td>\n      <td>82859c</td>\n      <td>3496</td>\n      <td>63194</td>\n      <td>Sai Hospitality Services NITK 7th Block Night ...</td>\n      <td>Pushpagiri Hostel ( Old PG Block</td>\n      <td>192.0</td>\n      <td>[Roll Shawarma Only Chicken, Parota, Chicken M...</td>\n      <td>[1, 2, 1]</td>\n      <td>[80.0, 15.0, 75.0]</td>\n    </tr>\n    <tr>\n      <th>4</th>\n      <td>2023-11-09 00:48:01</td>\n      <td>82859c</td>\n      <td>3496</td>\n      <td>63194</td>\n      <td>Sai Hospitality Services NITK 7th Block Night ...</td>\n      <td>Pushpagiri Hostel ( Old PG Block</td>\n      <td>192.0</td>\n      <td>[Roll Shawarma Only Chicken, Parota, Chicken M...</td>\n      <td>[1, 2, 1]</td>\n      <td>[80.0, 15.0, 75.0]</td>\n    </tr>\n    <tr>\n      <th>...</th>\n      <td>...</td>\n      <td>...</td>\n      <td>...</td>\n      <td>...</td>\n      <td>...</td>\n      <td>...</td>\n      <td>...</td>\n      <td>...</td>\n      <td>...</td>\n      <td>...</td>\n    </tr>\n    <tr>\n      <th>79395</th>\n      <td>2023-06-04 01:16:30</td>\n      <td>df0158</td>\n      <td>4150</td>\n      <td>37417</td>\n      <td>Tripthi Night Canteen ( NITK 8th Block Night C...</td>\n      <td>Girls Hostel Block</td>\n      <td>120.0</td>\n      <td>[Egg Fried Rice., Aloo Parota]</td>\n      <td>[1, 2]</td>\n      <td>[55.0, 30.0]</td>\n    </tr>\n    <tr>\n      <th>79396</th>\n      <td>2023-06-04 01:16:30</td>\n      <td>df0158</td>\n      <td>4150</td>\n      <td>37417</td>\n      <td>Tripthi Night Canteen ( NITK 8th Block Night C...</td>\n      <td>Girls Hostel Block</td>\n      <td>120.0</td>\n      <td>[Egg Fried Rice., Aloo Parota]</td>\n      <td>[1, 2]</td>\n      <td>[55.0, 30.0]</td>\n    </tr>\n    <tr>\n      <th>79397</th>\n      <td>2023-06-04 01:24:23</td>\n      <td>ea6c7d</td>\n      <td>4150</td>\n      <td>30169</td>\n      <td>Tripthi Night Canteen ( NITK 8th Block Night C...</td>\n      <td>Vindhya Hostel ( 3rd Block )</td>\n      <td>110.0</td>\n      <td>[meat   plate shawarama]</td>\n      <td>[1]</td>\n      <td>[105.0]</td>\n    </tr>\n    <tr>\n      <th>79398</th>\n      <td>2023-06-04 01:16:12</td>\n      <td>332894</td>\n      <td>4150</td>\n      <td>34915</td>\n      <td>Tripthi Night Canteen ( NITK 8th Block Night C...</td>\n      <td>Nilgiri Hostel ( 5th Block )</td>\n      <td>105.0</td>\n      <td>[Meat Plt Shwarma (ONLY CHICKEN)]</td>\n      <td>[1]</td>\n      <td>[100.0]</td>\n    </tr>\n    <tr>\n      <th>79399</th>\n      <td>2023-06-04 01:11:56</td>\n      <td>74f15a</td>\n      <td>4150</td>\n      <td>27019</td>\n      <td>Tripthi Night Canteen ( NITK 8th Block Night C...</td>\n      <td>Girls Hostel Block</td>\n      <td>60.0</td>\n      <td>[Dal Kichdi Thadka.]</td>\n      <td>[1]</td>\n      <td>[55.0]</td>\n    </tr>\n  </tbody>\n</table>\n<p>79400 rows × 10 columns</p>\n</div>"
     },
     "metadata": {}
    }
   ]
  },
  {
   "cell_type": "markdown",
   "source": [
    "- We dropped all the duplicate entries and were left with 40000+ orders "
   ],
   "metadata": {}
  },
  {
   "cell_type": "code",
   "source": [
    "nitk_df = nitk_df.drop_duplicates(subset=['Order Short Number'])\n"
   ],
   "metadata": {
    "execution": {
     "iopub.status.busy": "2024-03-12T06:17:21.968305Z",
     "iopub.execute_input": "2024-03-12T06:17:21.968530Z",
     "iopub.status.idle": "2024-03-12T06:17:21.984198Z",
     "shell.execute_reply.started": "2024-03-12T06:17:21.968510Z",
     "shell.execute_reply": "2024-03-12T06:17:21.983543Z"
    },
    "trusted": true
   },
   "execution_count": 11,
   "outputs": []
  },
  {
   "cell_type": "code",
   "source": [
    "nitk_df"
   ],
   "metadata": {
    "execution": {
     "iopub.status.busy": "2024-03-12T06:17:21.984957Z",
     "iopub.execute_input": "2024-03-12T06:17:21.985546Z",
     "iopub.status.idle": "2024-03-12T06:17:22.003896Z",
     "shell.execute_reply.started": "2024-03-12T06:17:21.985524Z",
     "shell.execute_reply": "2024-03-12T06:17:22.003397Z"
    },
    "trusted": true
   },
   "execution_count": 12,
   "outputs": [
    {
     "execution_count": 12,
     "output_type": "execute_result",
     "data": {
      "text/plain": "                   Created Order Short Number  Business ID  Customer ID  \\\n0      2023-09-17 01:27:12             471ec2         4583        57170   \n1      2023-06-07 21:32:54             ede0fc         4150        17715   \n2      2023-11-09 00:48:01             82859c         3496        63194   \n5      2023-10-10 23:12:37             33c9ef         3489        28373   \n6      2023-09-26 22:43:53             4750b4         3496        22283   \n...                    ...                ...          ...          ...   \n79394  2023-06-04 01:30:57             68a479         4150        45868   \n79395  2023-06-04 01:16:30             df0158         4150        37417   \n79397  2023-06-04 01:24:23             ea6c7d         4150        30169   \n79398  2023-06-04 01:16:12             332894         4150        34915   \n79399  2023-06-04 01:11:56             74f15a         4150        27019   \n\n                                Business → Business Name  \\\n0                            Girls Hostel, Night Canteen   \n1      Tripthi Night Canteen ( NITK 8th Block Night C...   \n2      Sai Hospitality Services NITK 7th Block Night ...   \n5                                        Food court NITK   \n6      Sai Hospitality Services NITK 7th Block Night ...   \n...                                                  ...   \n79394  Tripthi Night Canteen ( NITK 8th Block Night C...   \n79395  Tripthi Night Canteen ( NITK 8th Block Night C...   \n79397  Tripthi Night Canteen ( NITK 8th Block Night C...   \n79398  Tripthi Night Canteen ( NITK 8th Block Night C...   \n79399  Tripthi Night Canteen ( NITK 8th Block Night C...   \n\n      Delivery Fulfillment → Info → Delivery Address → Address Name  \\\n0                                                  Other              \n1                       Kailash Hostel ( Orange Tower )               \n2                       Pushpagiri Hostel ( Old PG Block              \n5                         Everest Hostel ( Grey Tower )               \n6                                                   Work              \n...                                                  ...              \n79394                       Vindhya Hostel ( 3rd Block )              \n79395                                 Girls Hostel Block              \n79397                       Vindhya Hostel ( 3rd Block )              \n79398                       Nilgiri Hostel ( 5th Block )              \n79399                                 Girls Hostel Block              \n\n       Order Total             Order Order Item → Info → Product Name  \\\n0             67.0                                     [Double Omlet]   \n1             55.0                                      [Dal Kichdi.]   \n2            192.0  [Roll Shawarma Only Chicken, Parota, Chicken M...   \n5             42.0                                       [Plain Dosa]   \n6            252.0                   [Alfoum Chicken, Egg Fried Rice]   \n...            ...                                                ...   \n79394         65.0                                    [Chicken Kabab]   \n79395        120.0                     [Egg Fried Rice., Aloo Parota]   \n79397        110.0                           [meat   plate shawarama]   \n79398        105.0                  [Meat Plt Shwarma (ONLY CHICKEN)]   \n79399         60.0                               [Dal Kichdi Thadka.]   \n\n      Order Order Item → Quantity Order Order Item → Unit Price  \n0                             [2]                        [30.0]  \n1                             [1]                        [50.0]  \n2                       [1, 2, 1]            [80.0, 15.0, 75.0]  \n5                             [1]                        [35.0]  \n6                          [1, 1]                 [195.0, 55.0]  \n...                           ...                           ...  \n79394                         [2]                        [30.0]  \n79395                      [1, 2]                  [55.0, 30.0]  \n79397                         [1]                       [105.0]  \n79398                         [1]                       [100.0]  \n79399                         [1]                        [55.0]  \n\n[40934 rows x 10 columns]",
      "text/html": "<div>\n<style scoped>\n    .dataframe tbody tr th:only-of-type {\n        vertical-align: middle;\n    }\n\n    .dataframe tbody tr th {\n        vertical-align: top;\n    }\n\n    .dataframe thead th {\n        text-align: right;\n    }\n</style>\n<table border=\"1\" class=\"dataframe\">\n  <thead>\n    <tr style=\"text-align: right;\">\n      <th></th>\n      <th>Created</th>\n      <th>Order Short Number</th>\n      <th>Business ID</th>\n      <th>Customer ID</th>\n      <th>Business → Business Name</th>\n      <th>Delivery Fulfillment → Info → Delivery Address → Address Name</th>\n      <th>Order Total</th>\n      <th>Order Order Item → Info → Product Name</th>\n      <th>Order Order Item → Quantity</th>\n      <th>Order Order Item → Unit Price</th>\n    </tr>\n  </thead>\n  <tbody>\n    <tr>\n      <th>0</th>\n      <td>2023-09-17 01:27:12</td>\n      <td>471ec2</td>\n      <td>4583</td>\n      <td>57170</td>\n      <td>Girls Hostel, Night Canteen</td>\n      <td>Other</td>\n      <td>67.0</td>\n      <td>[Double Omlet]</td>\n      <td>[2]</td>\n      <td>[30.0]</td>\n    </tr>\n    <tr>\n      <th>1</th>\n      <td>2023-06-07 21:32:54</td>\n      <td>ede0fc</td>\n      <td>4150</td>\n      <td>17715</td>\n      <td>Tripthi Night Canteen ( NITK 8th Block Night C...</td>\n      <td>Kailash Hostel ( Orange Tower )</td>\n      <td>55.0</td>\n      <td>[Dal Kichdi.]</td>\n      <td>[1]</td>\n      <td>[50.0]</td>\n    </tr>\n    <tr>\n      <th>2</th>\n      <td>2023-11-09 00:48:01</td>\n      <td>82859c</td>\n      <td>3496</td>\n      <td>63194</td>\n      <td>Sai Hospitality Services NITK 7th Block Night ...</td>\n      <td>Pushpagiri Hostel ( Old PG Block</td>\n      <td>192.0</td>\n      <td>[Roll Shawarma Only Chicken, Parota, Chicken M...</td>\n      <td>[1, 2, 1]</td>\n      <td>[80.0, 15.0, 75.0]</td>\n    </tr>\n    <tr>\n      <th>5</th>\n      <td>2023-10-10 23:12:37</td>\n      <td>33c9ef</td>\n      <td>3489</td>\n      <td>28373</td>\n      <td>Food court NITK</td>\n      <td>Everest Hostel ( Grey Tower )</td>\n      <td>42.0</td>\n      <td>[Plain Dosa]</td>\n      <td>[1]</td>\n      <td>[35.0]</td>\n    </tr>\n    <tr>\n      <th>6</th>\n      <td>2023-09-26 22:43:53</td>\n      <td>4750b4</td>\n      <td>3496</td>\n      <td>22283</td>\n      <td>Sai Hospitality Services NITK 7th Block Night ...</td>\n      <td>Work</td>\n      <td>252.0</td>\n      <td>[Alfoum Chicken, Egg Fried Rice]</td>\n      <td>[1, 1]</td>\n      <td>[195.0, 55.0]</td>\n    </tr>\n    <tr>\n      <th>...</th>\n      <td>...</td>\n      <td>...</td>\n      <td>...</td>\n      <td>...</td>\n      <td>...</td>\n      <td>...</td>\n      <td>...</td>\n      <td>...</td>\n      <td>...</td>\n      <td>...</td>\n    </tr>\n    <tr>\n      <th>79394</th>\n      <td>2023-06-04 01:30:57</td>\n      <td>68a479</td>\n      <td>4150</td>\n      <td>45868</td>\n      <td>Tripthi Night Canteen ( NITK 8th Block Night C...</td>\n      <td>Vindhya Hostel ( 3rd Block )</td>\n      <td>65.0</td>\n      <td>[Chicken Kabab]</td>\n      <td>[2]</td>\n      <td>[30.0]</td>\n    </tr>\n    <tr>\n      <th>79395</th>\n      <td>2023-06-04 01:16:30</td>\n      <td>df0158</td>\n      <td>4150</td>\n      <td>37417</td>\n      <td>Tripthi Night Canteen ( NITK 8th Block Night C...</td>\n      <td>Girls Hostel Block</td>\n      <td>120.0</td>\n      <td>[Egg Fried Rice., Aloo Parota]</td>\n      <td>[1, 2]</td>\n      <td>[55.0, 30.0]</td>\n    </tr>\n    <tr>\n      <th>79397</th>\n      <td>2023-06-04 01:24:23</td>\n      <td>ea6c7d</td>\n      <td>4150</td>\n      <td>30169</td>\n      <td>Tripthi Night Canteen ( NITK 8th Block Night C...</td>\n      <td>Vindhya Hostel ( 3rd Block )</td>\n      <td>110.0</td>\n      <td>[meat   plate shawarama]</td>\n      <td>[1]</td>\n      <td>[105.0]</td>\n    </tr>\n    <tr>\n      <th>79398</th>\n      <td>2023-06-04 01:16:12</td>\n      <td>332894</td>\n      <td>4150</td>\n      <td>34915</td>\n      <td>Tripthi Night Canteen ( NITK 8th Block Night C...</td>\n      <td>Nilgiri Hostel ( 5th Block )</td>\n      <td>105.0</td>\n      <td>[Meat Plt Shwarma (ONLY CHICKEN)]</td>\n      <td>[1]</td>\n      <td>[100.0]</td>\n    </tr>\n    <tr>\n      <th>79399</th>\n      <td>2023-06-04 01:11:56</td>\n      <td>74f15a</td>\n      <td>4150</td>\n      <td>27019</td>\n      <td>Tripthi Night Canteen ( NITK 8th Block Night C...</td>\n      <td>Girls Hostel Block</td>\n      <td>60.0</td>\n      <td>[Dal Kichdi Thadka.]</td>\n      <td>[1]</td>\n      <td>[55.0]</td>\n    </tr>\n  </tbody>\n</table>\n<p>40934 rows × 10 columns</p>\n</div>"
     },
     "metadata": {}
    }
   ]
  },
  {
   "cell_type": "markdown",
   "source": [
    "- Renamed the columns for convenience "
   ],
   "metadata": {}
  },
  {
   "cell_type": "code",
   "source": [
    "nitk_df.columns\n",
    "new_names = {\n",
    "    'Created': 'Order Date',\n",
    "    'Order Short Number': 'Order ID',\n",
    "    'Business ID': 'Business ID',\n",
    "    'Customer ID': 'Customer ID',\n",
    "    'Business → Business Name': 'Business Name',\n",
    "    'Delivery Fulfillment → Info → Delivery Address → Address Name': 'Delivery Address',\n",
    "    'Order Total': 'Order Total',\n",
    "    'Order Order Item → Info → Product Name': 'Product Names',\n",
    "    'Order Order Item → Quantity': 'Quantities',\n",
    "    'Order Order Item → Unit Price': 'Unit Prices'\n",
    "}\n",
    "\n",
    "# Rename the columns using the dictionary\n",
    "nitk_df = nitk_df.rename(columns=new_names)"
   ],
   "metadata": {
    "execution": {
     "iopub.status.busy": "2024-03-12T06:17:22.004707Z",
     "iopub.execute_input": "2024-03-12T06:17:22.005015Z",
     "iopub.status.idle": "2024-03-12T06:17:22.018632Z",
     "shell.execute_reply.started": "2024-03-12T06:17:22.004996Z",
     "shell.execute_reply": "2024-03-12T06:17:22.017498Z"
    },
    "trusted": true
   },
   "execution_count": 13,
   "outputs": []
  },
  {
   "cell_type": "code",
   "source": [
    "nitk_df"
   ],
   "metadata": {
    "execution": {
     "iopub.status.busy": "2024-03-12T06:17:22.020310Z",
     "iopub.execute_input": "2024-03-12T06:17:22.020625Z",
     "iopub.status.idle": "2024-03-12T06:17:22.043400Z",
     "shell.execute_reply.started": "2024-03-12T06:17:22.020598Z",
     "shell.execute_reply": "2024-03-12T06:17:22.042545Z"
    },
    "trusted": true
   },
   "execution_count": 14,
   "outputs": [
    {
     "execution_count": 14,
     "output_type": "execute_result",
     "data": {
      "text/plain": "                Order Date Order ID  Business ID  Customer ID  \\\n0      2023-09-17 01:27:12   471ec2         4583        57170   \n1      2023-06-07 21:32:54   ede0fc         4150        17715   \n2      2023-11-09 00:48:01   82859c         3496        63194   \n5      2023-10-10 23:12:37   33c9ef         3489        28373   \n6      2023-09-26 22:43:53   4750b4         3496        22283   \n...                    ...      ...          ...          ...   \n79394  2023-06-04 01:30:57   68a479         4150        45868   \n79395  2023-06-04 01:16:30   df0158         4150        37417   \n79397  2023-06-04 01:24:23   ea6c7d         4150        30169   \n79398  2023-06-04 01:16:12   332894         4150        34915   \n79399  2023-06-04 01:11:56   74f15a         4150        27019   \n\n                                           Business Name  \\\n0                            Girls Hostel, Night Canteen   \n1      Tripthi Night Canteen ( NITK 8th Block Night C...   \n2      Sai Hospitality Services NITK 7th Block Night ...   \n5                                        Food court NITK   \n6      Sai Hospitality Services NITK 7th Block Night ...   \n...                                                  ...   \n79394  Tripthi Night Canteen ( NITK 8th Block Night C...   \n79395  Tripthi Night Canteen ( NITK 8th Block Night C...   \n79397  Tripthi Night Canteen ( NITK 8th Block Night C...   \n79398  Tripthi Night Canteen ( NITK 8th Block Night C...   \n79399  Tripthi Night Canteen ( NITK 8th Block Night C...   \n\n                       Delivery Address  Order Total  \\\n0                                 Other         67.0   \n1      Kailash Hostel ( Orange Tower )          55.0   \n2      Pushpagiri Hostel ( Old PG Block        192.0   \n5        Everest Hostel ( Grey Tower )          42.0   \n6                                  Work        252.0   \n...                                 ...          ...   \n79394      Vindhya Hostel ( 3rd Block )         65.0   \n79395                Girls Hostel Block        120.0   \n79397      Vindhya Hostel ( 3rd Block )        110.0   \n79398      Nilgiri Hostel ( 5th Block )        105.0   \n79399                Girls Hostel Block         60.0   \n\n                                           Product Names Quantities  \\\n0                                         [Double Omlet]        [2]   \n1                                          [Dal Kichdi.]        [1]   \n2      [Roll Shawarma Only Chicken, Parota, Chicken M...  [1, 2, 1]   \n5                                           [Plain Dosa]        [1]   \n6                       [Alfoum Chicken, Egg Fried Rice]     [1, 1]   \n...                                                  ...        ...   \n79394                                    [Chicken Kabab]        [2]   \n79395                     [Egg Fried Rice., Aloo Parota]     [1, 2]   \n79397                           [meat   plate shawarama]        [1]   \n79398                  [Meat Plt Shwarma (ONLY CHICKEN)]        [1]   \n79399                               [Dal Kichdi Thadka.]        [1]   \n\n              Unit Prices  \n0                  [30.0]  \n1                  [50.0]  \n2      [80.0, 15.0, 75.0]  \n5                  [35.0]  \n6           [195.0, 55.0]  \n...                   ...  \n79394              [30.0]  \n79395        [55.0, 30.0]  \n79397             [105.0]  \n79398             [100.0]  \n79399              [55.0]  \n\n[40934 rows x 10 columns]",
      "text/html": "<div>\n<style scoped>\n    .dataframe tbody tr th:only-of-type {\n        vertical-align: middle;\n    }\n\n    .dataframe tbody tr th {\n        vertical-align: top;\n    }\n\n    .dataframe thead th {\n        text-align: right;\n    }\n</style>\n<table border=\"1\" class=\"dataframe\">\n  <thead>\n    <tr style=\"text-align: right;\">\n      <th></th>\n      <th>Order Date</th>\n      <th>Order ID</th>\n      <th>Business ID</th>\n      <th>Customer ID</th>\n      <th>Business Name</th>\n      <th>Delivery Address</th>\n      <th>Order Total</th>\n      <th>Product Names</th>\n      <th>Quantities</th>\n      <th>Unit Prices</th>\n    </tr>\n  </thead>\n  <tbody>\n    <tr>\n      <th>0</th>\n      <td>2023-09-17 01:27:12</td>\n      <td>471ec2</td>\n      <td>4583</td>\n      <td>57170</td>\n      <td>Girls Hostel, Night Canteen</td>\n      <td>Other</td>\n      <td>67.0</td>\n      <td>[Double Omlet]</td>\n      <td>[2]</td>\n      <td>[30.0]</td>\n    </tr>\n    <tr>\n      <th>1</th>\n      <td>2023-06-07 21:32:54</td>\n      <td>ede0fc</td>\n      <td>4150</td>\n      <td>17715</td>\n      <td>Tripthi Night Canteen ( NITK 8th Block Night C...</td>\n      <td>Kailash Hostel ( Orange Tower )</td>\n      <td>55.0</td>\n      <td>[Dal Kichdi.]</td>\n      <td>[1]</td>\n      <td>[50.0]</td>\n    </tr>\n    <tr>\n      <th>2</th>\n      <td>2023-11-09 00:48:01</td>\n      <td>82859c</td>\n      <td>3496</td>\n      <td>63194</td>\n      <td>Sai Hospitality Services NITK 7th Block Night ...</td>\n      <td>Pushpagiri Hostel ( Old PG Block</td>\n      <td>192.0</td>\n      <td>[Roll Shawarma Only Chicken, Parota, Chicken M...</td>\n      <td>[1, 2, 1]</td>\n      <td>[80.0, 15.0, 75.0]</td>\n    </tr>\n    <tr>\n      <th>5</th>\n      <td>2023-10-10 23:12:37</td>\n      <td>33c9ef</td>\n      <td>3489</td>\n      <td>28373</td>\n      <td>Food court NITK</td>\n      <td>Everest Hostel ( Grey Tower )</td>\n      <td>42.0</td>\n      <td>[Plain Dosa]</td>\n      <td>[1]</td>\n      <td>[35.0]</td>\n    </tr>\n    <tr>\n      <th>6</th>\n      <td>2023-09-26 22:43:53</td>\n      <td>4750b4</td>\n      <td>3496</td>\n      <td>22283</td>\n      <td>Sai Hospitality Services NITK 7th Block Night ...</td>\n      <td>Work</td>\n      <td>252.0</td>\n      <td>[Alfoum Chicken, Egg Fried Rice]</td>\n      <td>[1, 1]</td>\n      <td>[195.0, 55.0]</td>\n    </tr>\n    <tr>\n      <th>...</th>\n      <td>...</td>\n      <td>...</td>\n      <td>...</td>\n      <td>...</td>\n      <td>...</td>\n      <td>...</td>\n      <td>...</td>\n      <td>...</td>\n      <td>...</td>\n      <td>...</td>\n    </tr>\n    <tr>\n      <th>79394</th>\n      <td>2023-06-04 01:30:57</td>\n      <td>68a479</td>\n      <td>4150</td>\n      <td>45868</td>\n      <td>Tripthi Night Canteen ( NITK 8th Block Night C...</td>\n      <td>Vindhya Hostel ( 3rd Block )</td>\n      <td>65.0</td>\n      <td>[Chicken Kabab]</td>\n      <td>[2]</td>\n      <td>[30.0]</td>\n    </tr>\n    <tr>\n      <th>79395</th>\n      <td>2023-06-04 01:16:30</td>\n      <td>df0158</td>\n      <td>4150</td>\n      <td>37417</td>\n      <td>Tripthi Night Canteen ( NITK 8th Block Night C...</td>\n      <td>Girls Hostel Block</td>\n      <td>120.0</td>\n      <td>[Egg Fried Rice., Aloo Parota]</td>\n      <td>[1, 2]</td>\n      <td>[55.0, 30.0]</td>\n    </tr>\n    <tr>\n      <th>79397</th>\n      <td>2023-06-04 01:24:23</td>\n      <td>ea6c7d</td>\n      <td>4150</td>\n      <td>30169</td>\n      <td>Tripthi Night Canteen ( NITK 8th Block Night C...</td>\n      <td>Vindhya Hostel ( 3rd Block )</td>\n      <td>110.0</td>\n      <td>[meat   plate shawarama]</td>\n      <td>[1]</td>\n      <td>[105.0]</td>\n    </tr>\n    <tr>\n      <th>79398</th>\n      <td>2023-06-04 01:16:12</td>\n      <td>332894</td>\n      <td>4150</td>\n      <td>34915</td>\n      <td>Tripthi Night Canteen ( NITK 8th Block Night C...</td>\n      <td>Nilgiri Hostel ( 5th Block )</td>\n      <td>105.0</td>\n      <td>[Meat Plt Shwarma (ONLY CHICKEN)]</td>\n      <td>[1]</td>\n      <td>[100.0]</td>\n    </tr>\n    <tr>\n      <th>79399</th>\n      <td>2023-06-04 01:11:56</td>\n      <td>74f15a</td>\n      <td>4150</td>\n      <td>27019</td>\n      <td>Tripthi Night Canteen ( NITK 8th Block Night C...</td>\n      <td>Girls Hostel Block</td>\n      <td>60.0</td>\n      <td>[Dal Kichdi Thadka.]</td>\n      <td>[1]</td>\n      <td>[55.0]</td>\n    </tr>\n  </tbody>\n</table>\n<p>40934 rows × 10 columns</p>\n</div>"
     },
     "metadata": {}
    }
   ]
  },
  {
   "cell_type": "markdown",
   "source": [
    "- Saved the dataset for NITK in a csv file"
   ],
   "metadata": {}
  },
  {
   "cell_type": "code",
   "source": [
    "nitk_df.to_csv(\"Changepay_NITK.csv\")"
   ],
   "metadata": {
    "execution": {
     "iopub.status.busy": "2024-03-12T06:17:22.044551Z",
     "iopub.execute_input": "2024-03-12T06:17:22.044786Z",
     "iopub.status.idle": "2024-03-12T06:17:22.326560Z",
     "shell.execute_reply.started": "2024-03-12T06:17:22.044765Z",
     "shell.execute_reply": "2024-03-12T06:17:22.325930Z"
    },
    "trusted": true
   },
   "execution_count": 15,
   "outputs": []
  },
  {
   "cell_type": "markdown",
   "source": [
    "- We extracted the data from block 7 (one of the restaurants) to test the apriori algorithm"
   ],
   "metadata": {}
  },
  {
   "cell_type": "code",
   "source": [
    "df_b7 = nitk_df[nitk_df['Business Name'] == 'Sai Hospitality Services NITK 7th Block Night Canteen']\n"
   ],
   "metadata": {
    "execution": {
     "iopub.status.busy": "2024-03-12T06:17:22.327330Z",
     "iopub.execute_input": "2024-03-12T06:17:22.328020Z",
     "iopub.status.idle": "2024-03-12T06:17:22.335983Z",
     "shell.execute_reply.started": "2024-03-12T06:17:22.328000Z",
     "shell.execute_reply": "2024-03-12T06:17:22.335408Z"
    },
    "trusted": true
   },
   "execution_count": 16,
   "outputs": []
  },
  {
   "cell_type": "code",
   "source": [
    "transactions = df_b7['Product Names'].tolist()"
   ],
   "metadata": {
    "execution": {
     "iopub.status.busy": "2024-03-12T06:17:22.336962Z",
     "iopub.execute_input": "2024-03-12T06:17:22.337379Z",
     "iopub.status.idle": "2024-03-12T06:17:22.345337Z",
     "shell.execute_reply.started": "2024-03-12T06:17:22.337358Z",
     "shell.execute_reply": "2024-03-12T06:17:22.344778Z"
    },
    "trusted": true
   },
   "execution_count": 17,
   "outputs": []
  },
  {
   "cell_type": "code",
   "source": [
    "transactions\n",
    "# Calculate the average length of the lists in the transactions list\n",
    "total_length = sum(len(transaction) for transaction in transactions)\n",
    "average_length = total_length / len(transactions)\n",
    "average_length"
   ],
   "metadata": {
    "execution": {
     "iopub.status.busy": "2024-03-12T06:17:22.345996Z",
     "iopub.execute_input": "2024-03-12T06:17:22.346273Z",
     "iopub.status.idle": "2024-03-12T06:17:22.358526Z",
     "shell.execute_reply.started": "2024-03-12T06:17:22.346248Z",
     "shell.execute_reply": "2024-03-12T06:17:22.357479Z"
    },
    "trusted": true
   },
   "execution_count": 18,
   "outputs": [
    {
     "execution_count": 18,
     "output_type": "execute_result",
     "data": {
      "text/plain": "1.9948192364004955"
     },
     "metadata": {}
    }
   ]
  },
  {
   "cell_type": "markdown",
   "source": [
    "- This code uses the TransactionEncoder from the mlxtend library to perform one-hot encoding on a transactional dataset (transactions). The resulting binary matrix is converted into a pandas DataFrame (encoded_df), where each row represents a transaction, and each column corresponds to an item, with values indicating the presence or absence of the item in the transaction."
   ],
   "metadata": {}
  },
  {
   "cell_type": "code",
   "source": [
    "from mlxtend.preprocessing import TransactionEncoder\n",
    "encoder = TransactionEncoder()\n",
    "\n",
    "encodings = encoder.fit(transactions).transform(transactions)\n",
    "\n",
    "encoded_df = pd.DataFrame(encodings, columns=encoder.columns_)\n",
    "encoded_df"
   ],
   "metadata": {
    "execution": {
     "iopub.status.busy": "2024-03-12T06:17:22.359764Z",
     "iopub.execute_input": "2024-03-12T06:17:22.360242Z",
     "iopub.status.idle": "2024-03-12T06:17:22.705061Z",
     "shell.execute_reply.started": "2024-03-12T06:17:22.360213Z",
     "shell.execute_reply": "2024-03-12T06:17:22.704318Z"
    },
    "trusted": true
   },
   "execution_count": 19,
   "outputs": [
    {
     "execution_count": 19,
     "output_type": "execute_result",
     "data": {
      "text/plain": "        7Up  Afgani Chicken Tikka  Alfoum Chicken  Aloo Parota  \\\n0     False                 False           False        False   \n1     False                 False            True        False   \n2     False                 False           False        False   \n3     False                 False           False        False   \n4     False                 False           False        False   \n...     ...                   ...             ...          ...   \n8874  False                 False           False        False   \n8875  False                 False           False        False   \n8876  False                 False           False        False   \n8877  False                 False           False        False   \n8878  False                 False           False        False   \n\n      Alu  Mutter Masala  Alu  onion porota  Alu / Tomato Sandwich  \\\n0                  False              False                  False   \n1                  False              False                  False   \n2                  False              False                  False   \n3                  False              False                  False   \n4                  False              False                  False   \n...                  ...                ...                    ...   \n8874               False              False                  False   \n8875               False              False                  False   \n8876               False              False                  False   \n8877               False               True                  False   \n8878               False              False                  False   \n\n      Alu Capsicum Masala  Alu Gobi Masala  Alu Jeera  ...  \\\n0                   False            False      False  ...   \n1                   False            False      False  ...   \n2                   False            False      False  ...   \n3                   False            False      False  ...   \n4                   False            False      False  ...   \n...                   ...              ...        ...  ...   \n8874                False            False      False  ...   \n8875                False            False      False  ...   \n8876                False            False      False  ...   \n8877                False            False      False  ...   \n8878                False            False      False  ...   \n\n      chicken Manchurian rice  chicken Manchurian soup  chicken chilly rice  \\\n0                       False                    False                False   \n1                       False                    False                False   \n2                       False                    False                False   \n3                       False                    False                False   \n4                       False                    False                False   \n...                       ...                      ...                  ...   \n8874                    False                    False                False   \n8875                    False                    False                False   \n8876                    False                    False                False   \n8877                    False                    False                False   \n8878                    False                    False                False   \n\n      combination rice  combination sezwan rice  kaju drashk cone  \\\n0                False                    False             False   \n1                False                    False             False   \n2                False                    False             False   \n3                False                    False             False   \n4                False                    False             False   \n...                ...                      ...               ...   \n8874             False                    False             False   \n8875             False                    False             False   \n8876             False                    False             False   \n8877             False                    False             False   \n8878             False                    False             False   \n\n      mountain dew  paneer butter masala  tripple noodles  veg sezwan noodles  \n0            False                 False            False               False  \n1            False                 False            False               False  \n2            False                 False            False               False  \n3            False                 False            False               False  \n4            False                 False            False               False  \n...            ...                   ...              ...                 ...  \n8874         False                 False            False               False  \n8875         False                 False            False               False  \n8876         False                 False            False               False  \n8877         False                 False            False               False  \n8878         False                 False            False               False  \n\n[8879 rows x 134 columns]",
      "text/html": "<div>\n<style scoped>\n    .dataframe tbody tr th:only-of-type {\n        vertical-align: middle;\n    }\n\n    .dataframe tbody tr th {\n        vertical-align: top;\n    }\n\n    .dataframe thead th {\n        text-align: right;\n    }\n</style>\n<table border=\"1\" class=\"dataframe\">\n  <thead>\n    <tr style=\"text-align: right;\">\n      <th></th>\n      <th>7Up</th>\n      <th>Afgani Chicken Tikka</th>\n      <th>Alfoum Chicken</th>\n      <th>Aloo Parota</th>\n      <th>Alu  Mutter Masala</th>\n      <th>Alu  onion porota</th>\n      <th>Alu / Tomato Sandwich</th>\n      <th>Alu Capsicum Masala</th>\n      <th>Alu Gobi Masala</th>\n      <th>Alu Jeera</th>\n      <th>...</th>\n      <th>chicken Manchurian rice</th>\n      <th>chicken Manchurian soup</th>\n      <th>chicken chilly rice</th>\n      <th>combination rice</th>\n      <th>combination sezwan rice</th>\n      <th>kaju drashk cone</th>\n      <th>mountain dew</th>\n      <th>paneer butter masala</th>\n      <th>tripple noodles</th>\n      <th>veg sezwan noodles</th>\n    </tr>\n  </thead>\n  <tbody>\n    <tr>\n      <th>0</th>\n      <td>False</td>\n      <td>False</td>\n      <td>False</td>\n      <td>False</td>\n      <td>False</td>\n      <td>False</td>\n      <td>False</td>\n      <td>False</td>\n      <td>False</td>\n      <td>False</td>\n      <td>...</td>\n      <td>False</td>\n      <td>False</td>\n      <td>False</td>\n      <td>False</td>\n      <td>False</td>\n      <td>False</td>\n      <td>False</td>\n      <td>False</td>\n      <td>False</td>\n      <td>False</td>\n    </tr>\n    <tr>\n      <th>1</th>\n      <td>False</td>\n      <td>False</td>\n      <td>True</td>\n      <td>False</td>\n      <td>False</td>\n      <td>False</td>\n      <td>False</td>\n      <td>False</td>\n      <td>False</td>\n      <td>False</td>\n      <td>...</td>\n      <td>False</td>\n      <td>False</td>\n      <td>False</td>\n      <td>False</td>\n      <td>False</td>\n      <td>False</td>\n      <td>False</td>\n      <td>False</td>\n      <td>False</td>\n      <td>False</td>\n    </tr>\n    <tr>\n      <th>2</th>\n      <td>False</td>\n      <td>False</td>\n      <td>False</td>\n      <td>False</td>\n      <td>False</td>\n      <td>False</td>\n      <td>False</td>\n      <td>False</td>\n      <td>False</td>\n      <td>False</td>\n      <td>...</td>\n      <td>False</td>\n      <td>False</td>\n      <td>False</td>\n      <td>False</td>\n      <td>False</td>\n      <td>False</td>\n      <td>False</td>\n      <td>False</td>\n      <td>False</td>\n      <td>False</td>\n    </tr>\n    <tr>\n      <th>3</th>\n      <td>False</td>\n      <td>False</td>\n      <td>False</td>\n      <td>False</td>\n      <td>False</td>\n      <td>False</td>\n      <td>False</td>\n      <td>False</td>\n      <td>False</td>\n      <td>False</td>\n      <td>...</td>\n      <td>False</td>\n      <td>False</td>\n      <td>False</td>\n      <td>False</td>\n      <td>False</td>\n      <td>False</td>\n      <td>False</td>\n      <td>False</td>\n      <td>False</td>\n      <td>False</td>\n    </tr>\n    <tr>\n      <th>4</th>\n      <td>False</td>\n      <td>False</td>\n      <td>False</td>\n      <td>False</td>\n      <td>False</td>\n      <td>False</td>\n      <td>False</td>\n      <td>False</td>\n      <td>False</td>\n      <td>False</td>\n      <td>...</td>\n      <td>False</td>\n      <td>False</td>\n      <td>False</td>\n      <td>False</td>\n      <td>False</td>\n      <td>False</td>\n      <td>False</td>\n      <td>False</td>\n      <td>False</td>\n      <td>False</td>\n    </tr>\n    <tr>\n      <th>...</th>\n      <td>...</td>\n      <td>...</td>\n      <td>...</td>\n      <td>...</td>\n      <td>...</td>\n      <td>...</td>\n      <td>...</td>\n      <td>...</td>\n      <td>...</td>\n      <td>...</td>\n      <td>...</td>\n      <td>...</td>\n      <td>...</td>\n      <td>...</td>\n      <td>...</td>\n      <td>...</td>\n      <td>...</td>\n      <td>...</td>\n      <td>...</td>\n      <td>...</td>\n      <td>...</td>\n    </tr>\n    <tr>\n      <th>8874</th>\n      <td>False</td>\n      <td>False</td>\n      <td>False</td>\n      <td>False</td>\n      <td>False</td>\n      <td>False</td>\n      <td>False</td>\n      <td>False</td>\n      <td>False</td>\n      <td>False</td>\n      <td>...</td>\n      <td>False</td>\n      <td>False</td>\n      <td>False</td>\n      <td>False</td>\n      <td>False</td>\n      <td>False</td>\n      <td>False</td>\n      <td>False</td>\n      <td>False</td>\n      <td>False</td>\n    </tr>\n    <tr>\n      <th>8875</th>\n      <td>False</td>\n      <td>False</td>\n      <td>False</td>\n      <td>False</td>\n      <td>False</td>\n      <td>False</td>\n      <td>False</td>\n      <td>False</td>\n      <td>False</td>\n      <td>False</td>\n      <td>...</td>\n      <td>False</td>\n      <td>False</td>\n      <td>False</td>\n      <td>False</td>\n      <td>False</td>\n      <td>False</td>\n      <td>False</td>\n      <td>False</td>\n      <td>False</td>\n      <td>False</td>\n    </tr>\n    <tr>\n      <th>8876</th>\n      <td>False</td>\n      <td>False</td>\n      <td>False</td>\n      <td>False</td>\n      <td>False</td>\n      <td>False</td>\n      <td>False</td>\n      <td>False</td>\n      <td>False</td>\n      <td>False</td>\n      <td>...</td>\n      <td>False</td>\n      <td>False</td>\n      <td>False</td>\n      <td>False</td>\n      <td>False</td>\n      <td>False</td>\n      <td>False</td>\n      <td>False</td>\n      <td>False</td>\n      <td>False</td>\n    </tr>\n    <tr>\n      <th>8877</th>\n      <td>False</td>\n      <td>False</td>\n      <td>False</td>\n      <td>False</td>\n      <td>False</td>\n      <td>True</td>\n      <td>False</td>\n      <td>False</td>\n      <td>False</td>\n      <td>False</td>\n      <td>...</td>\n      <td>False</td>\n      <td>False</td>\n      <td>False</td>\n      <td>False</td>\n      <td>False</td>\n      <td>False</td>\n      <td>False</td>\n      <td>False</td>\n      <td>False</td>\n      <td>False</td>\n    </tr>\n    <tr>\n      <th>8878</th>\n      <td>False</td>\n      <td>False</td>\n      <td>False</td>\n      <td>False</td>\n      <td>False</td>\n      <td>False</td>\n      <td>False</td>\n      <td>False</td>\n      <td>False</td>\n      <td>False</td>\n      <td>...</td>\n      <td>False</td>\n      <td>False</td>\n      <td>False</td>\n      <td>False</td>\n      <td>False</td>\n      <td>False</td>\n      <td>False</td>\n      <td>False</td>\n      <td>False</td>\n      <td>False</td>\n    </tr>\n  </tbody>\n</table>\n<p>8879 rows × 134 columns</p>\n</div>"
     },
     "metadata": {}
    }
   ]
  },
  {
   "cell_type": "markdown",
   "source": [
    "- This code defines a function market_basket_analysis that performs market basket analysis using the Apriori algorithm from the mlxtend library. The function takes a transactional dataset (data), minimum support (min_support), and minimum confidence (min_confidence) as parameters and returns the generated association rules.\n"
   ],
   "metadata": {}
  },
  {
   "cell_type": "code",
   "source": [
    "from mlxtend.frequent_patterns import apriori\n",
    "from mlxtend.frequent_patterns import association_rules\n",
    "\n",
    "def market_basket_analysis(data, min_support, min_confidence):\n",
    "    # Apply Apriori algorithm\n",
    "    frequent_itemsets = apriori(data, min_support=min_support, use_colnames=True)\n",
    "    # Generate association rules\n",
    "    rules = association_rules(frequent_itemsets, metric=\"confidence\", min_threshold=min_confidence)\n",
    "\n",
    "    return rules"
   ],
   "metadata": {
    "execution": {
     "iopub.status.busy": "2024-03-12T06:17:22.706830Z",
     "iopub.execute_input": "2024-03-12T06:17:22.707150Z",
     "iopub.status.idle": "2024-03-12T06:17:22.717764Z",
     "shell.execute_reply.started": "2024-03-12T06:17:22.707124Z",
     "shell.execute_reply": "2024-03-12T06:17:22.717102Z"
    },
    "trusted": true
   },
   "execution_count": 20,
   "outputs": []
  },
  {
   "cell_type": "code",
   "source": [
    "frequent_itemsets = apriori(encoded_df, min_support=0.005, use_colnames=True)\n",
    "frequent_itemsets"
   ],
   "metadata": {
    "execution": {
     "iopub.status.busy": "2024-03-12T06:17:22.718888Z",
     "iopub.execute_input": "2024-03-12T06:17:22.720422Z",
     "iopub.status.idle": "2024-03-12T06:17:22.825444Z",
     "shell.execute_reply.started": "2024-03-12T06:17:22.720400Z",
     "shell.execute_reply": "2024-03-12T06:17:22.824434Z"
    },
    "trusted": true
   },
   "execution_count": 21,
   "outputs": [
    {
     "execution_count": 21,
     "output_type": "execute_result",
     "data": {
      "text/plain": "      support                                           itemsets\n0    0.025791                                              (7Up)\n1    0.016669                             (Afgani Chicken Tikka)\n2    0.030071                                   (Alfoum Chicken)\n3    0.057552                                (Alu  onion porota)\n4    0.010024                            (Alu / Tomato Sandwich)\n..        ...                                                ...\n103  0.007095                (Roll Shawarma Only Chicken, Pepsi)\n104  0.009010            (Roll Shawarma Veg With Chicken, Pepsi)\n105  0.005068                            (Pepsi, Veg Fried Rice)\n106  0.005857  (Plate Shawarma Only Chicken, Roll Shawarma On...\n107  0.005857  (Roll Shawarma Veg With Chicken, Roll Shawarma...\n\n[108 rows x 2 columns]",
      "text/html": "<div>\n<style scoped>\n    .dataframe tbody tr th:only-of-type {\n        vertical-align: middle;\n    }\n\n    .dataframe tbody tr th {\n        vertical-align: top;\n    }\n\n    .dataframe thead th {\n        text-align: right;\n    }\n</style>\n<table border=\"1\" class=\"dataframe\">\n  <thead>\n    <tr style=\"text-align: right;\">\n      <th></th>\n      <th>support</th>\n      <th>itemsets</th>\n    </tr>\n  </thead>\n  <tbody>\n    <tr>\n      <th>0</th>\n      <td>0.025791</td>\n      <td>(7Up)</td>\n    </tr>\n    <tr>\n      <th>1</th>\n      <td>0.016669</td>\n      <td>(Afgani Chicken Tikka)</td>\n    </tr>\n    <tr>\n      <th>2</th>\n      <td>0.030071</td>\n      <td>(Alfoum Chicken)</td>\n    </tr>\n    <tr>\n      <th>3</th>\n      <td>0.057552</td>\n      <td>(Alu  onion porota)</td>\n    </tr>\n    <tr>\n      <th>4</th>\n      <td>0.010024</td>\n      <td>(Alu / Tomato Sandwich)</td>\n    </tr>\n    <tr>\n      <th>...</th>\n      <td>...</td>\n      <td>...</td>\n    </tr>\n    <tr>\n      <th>103</th>\n      <td>0.007095</td>\n      <td>(Roll Shawarma Only Chicken, Pepsi)</td>\n    </tr>\n    <tr>\n      <th>104</th>\n      <td>0.009010</td>\n      <td>(Roll Shawarma Veg With Chicken, Pepsi)</td>\n    </tr>\n    <tr>\n      <th>105</th>\n      <td>0.005068</td>\n      <td>(Pepsi, Veg Fried Rice)</td>\n    </tr>\n    <tr>\n      <th>106</th>\n      <td>0.005857</td>\n      <td>(Plate Shawarma Only Chicken, Roll Shawarma On...</td>\n    </tr>\n    <tr>\n      <th>107</th>\n      <td>0.005857</td>\n      <td>(Roll Shawarma Veg With Chicken, Roll Shawarma...</td>\n    </tr>\n  </tbody>\n</table>\n<p>108 rows × 2 columns</p>\n</div>"
     },
     "metadata": {}
    }
   ]
  },
  {
   "cell_type": "markdown",
   "source": [
    "- The generated rules are printed below, as one can see, these rules do make sense"
   ],
   "metadata": {}
  },
  {
   "cell_type": "code",
   "source": [
    "rules = market_basket_analysis(encoded_df, 0.005, 0.1)\n",
    "rules"
   ],
   "metadata": {
    "execution": {
     "iopub.status.busy": "2024-03-12T06:17:22.826429Z",
     "iopub.execute_input": "2024-03-12T06:17:22.827029Z",
     "iopub.status.idle": "2024-03-12T06:17:22.973558Z",
     "shell.execute_reply.started": "2024-03-12T06:17:22.826982Z",
     "shell.execute_reply": "2024-03-12T06:17:22.972643Z"
    },
    "trusted": true
   },
   "execution_count": 22,
   "outputs": [
    {
     "execution_count": 22,
     "output_type": "execute_result",
     "data": {
      "text/plain": "                          antecedents                       consequents  \\\n0                        (Egg Parota)               (Alu  onion porota)   \n1                 (Alu  onion porota)                      (Egg Parota)   \n2                       (Bread Omlet)      (Roll Shawarma Only Chicken)   \n3                    (Butter Chicken)                          (Parota)   \n4                          (Chapathi)                       (Egg Burji)   \n5                         (Egg Burji)                        (Chapathi)   \n6                (Paneer Tika Masala)                        (Chapathi)   \n7                          (Chapathi)                          (Parota)   \n8                     (Chicken Curry)                          (Parota)   \n9                (Chicken Fried Rice)                   (Chicken Kabab)   \n10               (Chicken Fried Rice)                    (Double Omlet)   \n11                     (Double Omlet)              (Chicken Fried Rice)   \n12               (Chicken Fried Rice)      (Roll Shawarma Only Chicken)   \n13                  (Chicken Noodles)                   (Chicken Kabab)   \n14      (Chicken Schezwan Fried Rice)                   (Chicken Kabab)   \n15                     (Double Omlet)                   (Chicken Kabab)   \n16                    (Chicken Kabab)                  (Egg Fried Rice)   \n17                   (Egg Fried Rice)                   (Chicken Kabab)   \n18                       (Egg Parota)                   (Chicken Kabab)   \n19                    (Chicken Kabab)                          (Parota)   \n20                           (Parota)                   (Chicken Kabab)   \n21                            (Pepsi)                   (Chicken Kabab)   \n22      (Plate Shawarma Only Chicken)                   (Chicken Kabab)   \n23  (Plate Shawarma Veg With Chicken)                   (Chicken Kabab)   \n24                    (Chicken Kabab)      (Roll Shawarma Only Chicken)   \n25       (Roll Shawarma Only Chicken)                   (Chicken Kabab)   \n26   (Roll Shawarma Veg With Chicken)                   (Chicken Kabab)   \n27                    (Chicken Kadai)                          (Parota)   \n28                 (Chicken Kolapuri)                          (Parota)   \n29                   (Chicken Masala)                          (Parota)   \n30                     (Double Omlet)                  (Egg Fried Rice)   \n31                     (Egg Full Fry)                  (Egg Fried Rice)   \n32               (Paneer Tika Masala)                          (Parota)   \n33      (Plate Shawarma Only Chicken)                           (Pepsi)   \n34                            (Pepsi)     (Plate Shawarma Only Chicken)   \n35                            (Pepsi)  (Roll Shawarma Veg With Chicken)   \n36                   (Veg Fried Rice)                           (Pepsi)   \n\n    antecedent support  consequent support   support  confidence      lift  \\\n0             0.070278            0.057552  0.008672    0.123397  2.144121   \n1             0.057552            0.070278  0.008672    0.150685  2.144121   \n2             0.039194            0.151368  0.006532    0.166667  1.101066   \n3             0.011037            0.119270  0.007546    0.683673  5.732140   \n4             0.066449            0.023989  0.010362    0.155932  6.500103   \n5             0.023989            0.066449  0.010362    0.431925  6.500103   \n6             0.014303            0.066449  0.005068    0.354331  5.332377   \n7             0.066449            0.119270  0.010925    0.164407  1.378440   \n8             0.012727            0.119270  0.006082    0.477876  4.006669   \n9             0.057552            0.151368  0.013628    0.236791  1.564333   \n10            0.057552            0.045951  0.005857    0.101761  2.214554   \n11            0.045951            0.057552  0.005857    0.127451  2.214554   \n12            0.057552            0.151368  0.010024    0.174168  1.150625   \n13            0.035477            0.151368  0.005969    0.168254  1.111553   \n14            0.029958            0.151368  0.005969    0.199248  1.316313   \n15            0.045951            0.151368  0.008109    0.176471  1.165835   \n16            0.151368            0.081428  0.022750    0.150298  1.845771   \n17            0.081428            0.151368  0.022750    0.279391  1.845771   \n18            0.070278            0.151368  0.007996    0.113782  0.751690   \n19            0.151368            0.119270  0.020160    0.133185  1.116662   \n20            0.119270            0.151368  0.020160    0.169027  1.116662   \n21            0.074445            0.151368  0.008560    0.114977  0.759586   \n22            0.060705            0.151368  0.009798    0.161410  1.066339   \n23            0.049443            0.151368  0.006082    0.123007  0.812632   \n24            0.151368            0.151368  0.022750    0.150298  0.992926   \n25            0.151368            0.151368  0.022750    0.150298  0.992926   \n26            0.092578            0.151368  0.010699    0.115572  0.763513   \n27            0.010249            0.119270  0.007095    0.692308  5.804533   \n28            0.011488            0.119270  0.006758    0.588235  4.931956   \n29            0.015204            0.119270  0.010925    0.718519  6.024293   \n30            0.045951            0.081428  0.005631    0.122549  1.504997   \n31            0.030409            0.081428  0.005969    0.196296  2.410671   \n32            0.014303            0.119270  0.007884    0.551181  4.621281   \n33            0.060705            0.074445  0.009911    0.163265  2.193090   \n34            0.074445            0.060705  0.009911    0.133132  2.193090   \n35            0.074445            0.092578  0.009010    0.121029  1.307317   \n36            0.021962            0.074445  0.005068    0.230769  3.099849   \n\n    leverage  conviction  zhangs_metric  \n0   0.004628    1.075115       0.573944  \n1   0.004628    1.094672       0.566194  \n2   0.000600    1.018358       0.095534  \n3   0.006229    2.784243       0.834759  \n4   0.008767    1.156318       0.906385  \n5   0.008767    1.643359       0.866954  \n6   0.004118    1.445866       0.824256  \n7   0.002999    1.054017       0.294084  \n8   0.004564    1.686822       0.760089  \n9   0.004916    1.111925       0.382780  \n10  0.003212    1.062133       0.581933  \n11  0.003212    1.080109       0.574857  \n12  0.001312    1.027608       0.138901  \n13  0.000599    1.020301       0.104049  \n14  0.001434    1.059793       0.247723  \n15  0.001153    1.030481       0.149097  \n16  0.010425    1.081051       0.539953  \n17  0.010425    1.177660       0.498841  \n18 -0.002642    0.957588      -0.262160  \n19  0.002106    1.016052       0.123109  \n20  0.002106    1.021251       0.118622  \n21 -0.002709    0.958881      -0.254824  \n22  0.000610    1.011974       0.066233  \n23 -0.001402    0.967660      -0.195211  \n24 -0.000162    0.998740      -0.008325  \n25 -0.000162    0.998740      -0.008325  \n26 -0.003314    0.959526      -0.254474  \n27  0.005873    2.862372       0.836292  \n28  0.005387    2.138915       0.806506  \n29  0.009111    3.128909       0.846882  \n30  0.001890    1.046864       0.351708  \n31  0.003493    1.142924       0.603530  \n32  0.006178    1.962328       0.794981  \n33  0.005392    1.106151       0.579182  \n34  0.005392    1.083550       0.587780  \n35  0.002118    1.032368       0.253982  \n36  0.003433    1.203221       0.692615  ",
      "text/html": "<div>\n<style scoped>\n    .dataframe tbody tr th:only-of-type {\n        vertical-align: middle;\n    }\n\n    .dataframe tbody tr th {\n        vertical-align: top;\n    }\n\n    .dataframe thead th {\n        text-align: right;\n    }\n</style>\n<table border=\"1\" class=\"dataframe\">\n  <thead>\n    <tr style=\"text-align: right;\">\n      <th></th>\n      <th>antecedents</th>\n      <th>consequents</th>\n      <th>antecedent support</th>\n      <th>consequent support</th>\n      <th>support</th>\n      <th>confidence</th>\n      <th>lift</th>\n      <th>leverage</th>\n      <th>conviction</th>\n      <th>zhangs_metric</th>\n    </tr>\n  </thead>\n  <tbody>\n    <tr>\n      <th>0</th>\n      <td>(Egg Parota)</td>\n      <td>(Alu  onion porota)</td>\n      <td>0.070278</td>\n      <td>0.057552</td>\n      <td>0.008672</td>\n      <td>0.123397</td>\n      <td>2.144121</td>\n      <td>0.004628</td>\n      <td>1.075115</td>\n      <td>0.573944</td>\n    </tr>\n    <tr>\n      <th>1</th>\n      <td>(Alu  onion porota)</td>\n      <td>(Egg Parota)</td>\n      <td>0.057552</td>\n      <td>0.070278</td>\n      <td>0.008672</td>\n      <td>0.150685</td>\n      <td>2.144121</td>\n      <td>0.004628</td>\n      <td>1.094672</td>\n      <td>0.566194</td>\n    </tr>\n    <tr>\n      <th>2</th>\n      <td>(Bread Omlet)</td>\n      <td>(Roll Shawarma Only Chicken)</td>\n      <td>0.039194</td>\n      <td>0.151368</td>\n      <td>0.006532</td>\n      <td>0.166667</td>\n      <td>1.101066</td>\n      <td>0.000600</td>\n      <td>1.018358</td>\n      <td>0.095534</td>\n    </tr>\n    <tr>\n      <th>3</th>\n      <td>(Butter Chicken)</td>\n      <td>(Parota)</td>\n      <td>0.011037</td>\n      <td>0.119270</td>\n      <td>0.007546</td>\n      <td>0.683673</td>\n      <td>5.732140</td>\n      <td>0.006229</td>\n      <td>2.784243</td>\n      <td>0.834759</td>\n    </tr>\n    <tr>\n      <th>4</th>\n      <td>(Chapathi)</td>\n      <td>(Egg Burji)</td>\n      <td>0.066449</td>\n      <td>0.023989</td>\n      <td>0.010362</td>\n      <td>0.155932</td>\n      <td>6.500103</td>\n      <td>0.008767</td>\n      <td>1.156318</td>\n      <td>0.906385</td>\n    </tr>\n    <tr>\n      <th>5</th>\n      <td>(Egg Burji)</td>\n      <td>(Chapathi)</td>\n      <td>0.023989</td>\n      <td>0.066449</td>\n      <td>0.010362</td>\n      <td>0.431925</td>\n      <td>6.500103</td>\n      <td>0.008767</td>\n      <td>1.643359</td>\n      <td>0.866954</td>\n    </tr>\n    <tr>\n      <th>6</th>\n      <td>(Paneer Tika Masala)</td>\n      <td>(Chapathi)</td>\n      <td>0.014303</td>\n      <td>0.066449</td>\n      <td>0.005068</td>\n      <td>0.354331</td>\n      <td>5.332377</td>\n      <td>0.004118</td>\n      <td>1.445866</td>\n      <td>0.824256</td>\n    </tr>\n    <tr>\n      <th>7</th>\n      <td>(Chapathi)</td>\n      <td>(Parota)</td>\n      <td>0.066449</td>\n      <td>0.119270</td>\n      <td>0.010925</td>\n      <td>0.164407</td>\n      <td>1.378440</td>\n      <td>0.002999</td>\n      <td>1.054017</td>\n      <td>0.294084</td>\n    </tr>\n    <tr>\n      <th>8</th>\n      <td>(Chicken Curry)</td>\n      <td>(Parota)</td>\n      <td>0.012727</td>\n      <td>0.119270</td>\n      <td>0.006082</td>\n      <td>0.477876</td>\n      <td>4.006669</td>\n      <td>0.004564</td>\n      <td>1.686822</td>\n      <td>0.760089</td>\n    </tr>\n    <tr>\n      <th>9</th>\n      <td>(Chicken Fried Rice)</td>\n      <td>(Chicken Kabab)</td>\n      <td>0.057552</td>\n      <td>0.151368</td>\n      <td>0.013628</td>\n      <td>0.236791</td>\n      <td>1.564333</td>\n      <td>0.004916</td>\n      <td>1.111925</td>\n      <td>0.382780</td>\n    </tr>\n    <tr>\n      <th>10</th>\n      <td>(Chicken Fried Rice)</td>\n      <td>(Double Omlet)</td>\n      <td>0.057552</td>\n      <td>0.045951</td>\n      <td>0.005857</td>\n      <td>0.101761</td>\n      <td>2.214554</td>\n      <td>0.003212</td>\n      <td>1.062133</td>\n      <td>0.581933</td>\n    </tr>\n    <tr>\n      <th>11</th>\n      <td>(Double Omlet)</td>\n      <td>(Chicken Fried Rice)</td>\n      <td>0.045951</td>\n      <td>0.057552</td>\n      <td>0.005857</td>\n      <td>0.127451</td>\n      <td>2.214554</td>\n      <td>0.003212</td>\n      <td>1.080109</td>\n      <td>0.574857</td>\n    </tr>\n    <tr>\n      <th>12</th>\n      <td>(Chicken Fried Rice)</td>\n      <td>(Roll Shawarma Only Chicken)</td>\n      <td>0.057552</td>\n      <td>0.151368</td>\n      <td>0.010024</td>\n      <td>0.174168</td>\n      <td>1.150625</td>\n      <td>0.001312</td>\n      <td>1.027608</td>\n      <td>0.138901</td>\n    </tr>\n    <tr>\n      <th>13</th>\n      <td>(Chicken Noodles)</td>\n      <td>(Chicken Kabab)</td>\n      <td>0.035477</td>\n      <td>0.151368</td>\n      <td>0.005969</td>\n      <td>0.168254</td>\n      <td>1.111553</td>\n      <td>0.000599</td>\n      <td>1.020301</td>\n      <td>0.104049</td>\n    </tr>\n    <tr>\n      <th>14</th>\n      <td>(Chicken Schezwan Fried Rice)</td>\n      <td>(Chicken Kabab)</td>\n      <td>0.029958</td>\n      <td>0.151368</td>\n      <td>0.005969</td>\n      <td>0.199248</td>\n      <td>1.316313</td>\n      <td>0.001434</td>\n      <td>1.059793</td>\n      <td>0.247723</td>\n    </tr>\n    <tr>\n      <th>15</th>\n      <td>(Double Omlet)</td>\n      <td>(Chicken Kabab)</td>\n      <td>0.045951</td>\n      <td>0.151368</td>\n      <td>0.008109</td>\n      <td>0.176471</td>\n      <td>1.165835</td>\n      <td>0.001153</td>\n      <td>1.030481</td>\n      <td>0.149097</td>\n    </tr>\n    <tr>\n      <th>16</th>\n      <td>(Chicken Kabab)</td>\n      <td>(Egg Fried Rice)</td>\n      <td>0.151368</td>\n      <td>0.081428</td>\n      <td>0.022750</td>\n      <td>0.150298</td>\n      <td>1.845771</td>\n      <td>0.010425</td>\n      <td>1.081051</td>\n      <td>0.539953</td>\n    </tr>\n    <tr>\n      <th>17</th>\n      <td>(Egg Fried Rice)</td>\n      <td>(Chicken Kabab)</td>\n      <td>0.081428</td>\n      <td>0.151368</td>\n      <td>0.022750</td>\n      <td>0.279391</td>\n      <td>1.845771</td>\n      <td>0.010425</td>\n      <td>1.177660</td>\n      <td>0.498841</td>\n    </tr>\n    <tr>\n      <th>18</th>\n      <td>(Egg Parota)</td>\n      <td>(Chicken Kabab)</td>\n      <td>0.070278</td>\n      <td>0.151368</td>\n      <td>0.007996</td>\n      <td>0.113782</td>\n      <td>0.751690</td>\n      <td>-0.002642</td>\n      <td>0.957588</td>\n      <td>-0.262160</td>\n    </tr>\n    <tr>\n      <th>19</th>\n      <td>(Chicken Kabab)</td>\n      <td>(Parota)</td>\n      <td>0.151368</td>\n      <td>0.119270</td>\n      <td>0.020160</td>\n      <td>0.133185</td>\n      <td>1.116662</td>\n      <td>0.002106</td>\n      <td>1.016052</td>\n      <td>0.123109</td>\n    </tr>\n    <tr>\n      <th>20</th>\n      <td>(Parota)</td>\n      <td>(Chicken Kabab)</td>\n      <td>0.119270</td>\n      <td>0.151368</td>\n      <td>0.020160</td>\n      <td>0.169027</td>\n      <td>1.116662</td>\n      <td>0.002106</td>\n      <td>1.021251</td>\n      <td>0.118622</td>\n    </tr>\n    <tr>\n      <th>21</th>\n      <td>(Pepsi)</td>\n      <td>(Chicken Kabab)</td>\n      <td>0.074445</td>\n      <td>0.151368</td>\n      <td>0.008560</td>\n      <td>0.114977</td>\n      <td>0.759586</td>\n      <td>-0.002709</td>\n      <td>0.958881</td>\n      <td>-0.254824</td>\n    </tr>\n    <tr>\n      <th>22</th>\n      <td>(Plate Shawarma Only Chicken)</td>\n      <td>(Chicken Kabab)</td>\n      <td>0.060705</td>\n      <td>0.151368</td>\n      <td>0.009798</td>\n      <td>0.161410</td>\n      <td>1.066339</td>\n      <td>0.000610</td>\n      <td>1.011974</td>\n      <td>0.066233</td>\n    </tr>\n    <tr>\n      <th>23</th>\n      <td>(Plate Shawarma Veg With Chicken)</td>\n      <td>(Chicken Kabab)</td>\n      <td>0.049443</td>\n      <td>0.151368</td>\n      <td>0.006082</td>\n      <td>0.123007</td>\n      <td>0.812632</td>\n      <td>-0.001402</td>\n      <td>0.967660</td>\n      <td>-0.195211</td>\n    </tr>\n    <tr>\n      <th>24</th>\n      <td>(Chicken Kabab)</td>\n      <td>(Roll Shawarma Only Chicken)</td>\n      <td>0.151368</td>\n      <td>0.151368</td>\n      <td>0.022750</td>\n      <td>0.150298</td>\n      <td>0.992926</td>\n      <td>-0.000162</td>\n      <td>0.998740</td>\n      <td>-0.008325</td>\n    </tr>\n    <tr>\n      <th>25</th>\n      <td>(Roll Shawarma Only Chicken)</td>\n      <td>(Chicken Kabab)</td>\n      <td>0.151368</td>\n      <td>0.151368</td>\n      <td>0.022750</td>\n      <td>0.150298</td>\n      <td>0.992926</td>\n      <td>-0.000162</td>\n      <td>0.998740</td>\n      <td>-0.008325</td>\n    </tr>\n    <tr>\n      <th>26</th>\n      <td>(Roll Shawarma Veg With Chicken)</td>\n      <td>(Chicken Kabab)</td>\n      <td>0.092578</td>\n      <td>0.151368</td>\n      <td>0.010699</td>\n      <td>0.115572</td>\n      <td>0.763513</td>\n      <td>-0.003314</td>\n      <td>0.959526</td>\n      <td>-0.254474</td>\n    </tr>\n    <tr>\n      <th>27</th>\n      <td>(Chicken Kadai)</td>\n      <td>(Parota)</td>\n      <td>0.010249</td>\n      <td>0.119270</td>\n      <td>0.007095</td>\n      <td>0.692308</td>\n      <td>5.804533</td>\n      <td>0.005873</td>\n      <td>2.862372</td>\n      <td>0.836292</td>\n    </tr>\n    <tr>\n      <th>28</th>\n      <td>(Chicken Kolapuri)</td>\n      <td>(Parota)</td>\n      <td>0.011488</td>\n      <td>0.119270</td>\n      <td>0.006758</td>\n      <td>0.588235</td>\n      <td>4.931956</td>\n      <td>0.005387</td>\n      <td>2.138915</td>\n      <td>0.806506</td>\n    </tr>\n    <tr>\n      <th>29</th>\n      <td>(Chicken Masala)</td>\n      <td>(Parota)</td>\n      <td>0.015204</td>\n      <td>0.119270</td>\n      <td>0.010925</td>\n      <td>0.718519</td>\n      <td>6.024293</td>\n      <td>0.009111</td>\n      <td>3.128909</td>\n      <td>0.846882</td>\n    </tr>\n    <tr>\n      <th>30</th>\n      <td>(Double Omlet)</td>\n      <td>(Egg Fried Rice)</td>\n      <td>0.045951</td>\n      <td>0.081428</td>\n      <td>0.005631</td>\n      <td>0.122549</td>\n      <td>1.504997</td>\n      <td>0.001890</td>\n      <td>1.046864</td>\n      <td>0.351708</td>\n    </tr>\n    <tr>\n      <th>31</th>\n      <td>(Egg Full Fry)</td>\n      <td>(Egg Fried Rice)</td>\n      <td>0.030409</td>\n      <td>0.081428</td>\n      <td>0.005969</td>\n      <td>0.196296</td>\n      <td>2.410671</td>\n      <td>0.003493</td>\n      <td>1.142924</td>\n      <td>0.603530</td>\n    </tr>\n    <tr>\n      <th>32</th>\n      <td>(Paneer Tika Masala)</td>\n      <td>(Parota)</td>\n      <td>0.014303</td>\n      <td>0.119270</td>\n      <td>0.007884</td>\n      <td>0.551181</td>\n      <td>4.621281</td>\n      <td>0.006178</td>\n      <td>1.962328</td>\n      <td>0.794981</td>\n    </tr>\n    <tr>\n      <th>33</th>\n      <td>(Plate Shawarma Only Chicken)</td>\n      <td>(Pepsi)</td>\n      <td>0.060705</td>\n      <td>0.074445</td>\n      <td>0.009911</td>\n      <td>0.163265</td>\n      <td>2.193090</td>\n      <td>0.005392</td>\n      <td>1.106151</td>\n      <td>0.579182</td>\n    </tr>\n    <tr>\n      <th>34</th>\n      <td>(Pepsi)</td>\n      <td>(Plate Shawarma Only Chicken)</td>\n      <td>0.074445</td>\n      <td>0.060705</td>\n      <td>0.009911</td>\n      <td>0.133132</td>\n      <td>2.193090</td>\n      <td>0.005392</td>\n      <td>1.083550</td>\n      <td>0.587780</td>\n    </tr>\n    <tr>\n      <th>35</th>\n      <td>(Pepsi)</td>\n      <td>(Roll Shawarma Veg With Chicken)</td>\n      <td>0.074445</td>\n      <td>0.092578</td>\n      <td>0.009010</td>\n      <td>0.121029</td>\n      <td>1.307317</td>\n      <td>0.002118</td>\n      <td>1.032368</td>\n      <td>0.253982</td>\n    </tr>\n    <tr>\n      <th>36</th>\n      <td>(Veg Fried Rice)</td>\n      <td>(Pepsi)</td>\n      <td>0.021962</td>\n      <td>0.074445</td>\n      <td>0.005068</td>\n      <td>0.230769</td>\n      <td>3.099849</td>\n      <td>0.003433</td>\n      <td>1.203221</td>\n      <td>0.692615</td>\n    </tr>\n  </tbody>\n</table>\n</div>"
     },
     "metadata": {}
    }
   ]
  },
  {
   "cell_type": "code",
   "source": [
    "from mlxtend.frequent_patterns import fpgrowth\n",
    "frequent_itemsets_fp= fpgrowth(encoded_df, min_support=0.005, use_colnames=True)\n",
    "frequent_itemsets_fp"
   ],
   "metadata": {
    "execution": {
     "iopub.status.busy": "2024-03-12T06:19:50.580424Z",
     "iopub.execute_input": "2024-03-12T06:19:50.580735Z",
     "iopub.status.idle": "2024-03-12T06:19:50.646506Z",
     "shell.execute_reply.started": "2024-03-12T06:19:50.580710Z",
     "shell.execute_reply": "2024-03-12T06:19:50.645741Z"
    },
    "trusted": true
   },
   "execution_count": 23,
   "outputs": [
    {
     "execution_count": 23,
     "output_type": "execute_result",
     "data": {
      "text/plain": "      support                      itemsets\n0    0.151368  (Roll Shawarma Only Chicken)\n1    0.119270                      (Parota)\n2    0.015204              (Chicken Masala)\n3    0.081428              (Egg Fried Rice)\n4    0.030071              (Alfoum Chicken)\n..        ...                           ...\n103  0.005068       (Pepsi, Veg Fried Rice)\n104  0.006758    (Chicken Kolapuri, Parota)\n105  0.007095       (Chicken Kadai, Parota)\n106  0.006082       (Chicken Curry, Parota)\n107  0.007546      (Butter Chicken, Parota)\n\n[108 rows x 2 columns]",
      "text/html": "<div>\n<style scoped>\n    .dataframe tbody tr th:only-of-type {\n        vertical-align: middle;\n    }\n\n    .dataframe tbody tr th {\n        vertical-align: top;\n    }\n\n    .dataframe thead th {\n        text-align: right;\n    }\n</style>\n<table border=\"1\" class=\"dataframe\">\n  <thead>\n    <tr style=\"text-align: right;\">\n      <th></th>\n      <th>support</th>\n      <th>itemsets</th>\n    </tr>\n  </thead>\n  <tbody>\n    <tr>\n      <th>0</th>\n      <td>0.151368</td>\n      <td>(Roll Shawarma Only Chicken)</td>\n    </tr>\n    <tr>\n      <th>1</th>\n      <td>0.119270</td>\n      <td>(Parota)</td>\n    </tr>\n    <tr>\n      <th>2</th>\n      <td>0.015204</td>\n      <td>(Chicken Masala)</td>\n    </tr>\n    <tr>\n      <th>3</th>\n      <td>0.081428</td>\n      <td>(Egg Fried Rice)</td>\n    </tr>\n    <tr>\n      <th>4</th>\n      <td>0.030071</td>\n      <td>(Alfoum Chicken)</td>\n    </tr>\n    <tr>\n      <th>...</th>\n      <td>...</td>\n      <td>...</td>\n    </tr>\n    <tr>\n      <th>103</th>\n      <td>0.005068</td>\n      <td>(Pepsi, Veg Fried Rice)</td>\n    </tr>\n    <tr>\n      <th>104</th>\n      <td>0.006758</td>\n      <td>(Chicken Kolapuri, Parota)</td>\n    </tr>\n    <tr>\n      <th>105</th>\n      <td>0.007095</td>\n      <td>(Chicken Kadai, Parota)</td>\n    </tr>\n    <tr>\n      <th>106</th>\n      <td>0.006082</td>\n      <td>(Chicken Curry, Parota)</td>\n    </tr>\n    <tr>\n      <th>107</th>\n      <td>0.007546</td>\n      <td>(Butter Chicken, Parota)</td>\n    </tr>\n  </tbody>\n</table>\n<p>108 rows × 2 columns</p>\n</div>"
     },
     "metadata": {}
    }
   ]
  },
  {
   "cell_type": "code",
   "source": [
    "rules = market_basket_analysis(encoded_df, 0.005, 0.1)\n",
    "rules"
   ],
   "metadata": {
    "execution": {
     "iopub.status.busy": "2024-03-12T06:21:43.207027Z",
     "iopub.execute_input": "2024-03-12T06:21:43.207369Z",
     "iopub.status.idle": "2024-03-12T06:21:43.341165Z",
     "shell.execute_reply.started": "2024-03-12T06:21:43.207345Z",
     "shell.execute_reply": "2024-03-12T06:21:43.340260Z"
    },
    "trusted": true
   },
   "execution_count": 24,
   "outputs": [
    {
     "execution_count": 24,
     "output_type": "execute_result",
     "data": {
      "text/plain": "                          antecedents                       consequents  \\\n0                        (Egg Parota)               (Alu  onion porota)   \n1                 (Alu  onion porota)                      (Egg Parota)   \n2                       (Bread Omlet)      (Roll Shawarma Only Chicken)   \n3                    (Butter Chicken)                          (Parota)   \n4                          (Chapathi)                       (Egg Burji)   \n5                         (Egg Burji)                        (Chapathi)   \n6                (Paneer Tika Masala)                        (Chapathi)   \n7                          (Chapathi)                          (Parota)   \n8                     (Chicken Curry)                          (Parota)   \n9                (Chicken Fried Rice)                   (Chicken Kabab)   \n10               (Chicken Fried Rice)                    (Double Omlet)   \n11                     (Double Omlet)              (Chicken Fried Rice)   \n12               (Chicken Fried Rice)      (Roll Shawarma Only Chicken)   \n13                  (Chicken Noodles)                   (Chicken Kabab)   \n14      (Chicken Schezwan Fried Rice)                   (Chicken Kabab)   \n15                     (Double Omlet)                   (Chicken Kabab)   \n16                    (Chicken Kabab)                  (Egg Fried Rice)   \n17                   (Egg Fried Rice)                   (Chicken Kabab)   \n18                       (Egg Parota)                   (Chicken Kabab)   \n19                    (Chicken Kabab)                          (Parota)   \n20                           (Parota)                   (Chicken Kabab)   \n21                            (Pepsi)                   (Chicken Kabab)   \n22      (Plate Shawarma Only Chicken)                   (Chicken Kabab)   \n23  (Plate Shawarma Veg With Chicken)                   (Chicken Kabab)   \n24                    (Chicken Kabab)      (Roll Shawarma Only Chicken)   \n25       (Roll Shawarma Only Chicken)                   (Chicken Kabab)   \n26   (Roll Shawarma Veg With Chicken)                   (Chicken Kabab)   \n27                    (Chicken Kadai)                          (Parota)   \n28                 (Chicken Kolapuri)                          (Parota)   \n29                   (Chicken Masala)                          (Parota)   \n30                     (Double Omlet)                  (Egg Fried Rice)   \n31                     (Egg Full Fry)                  (Egg Fried Rice)   \n32               (Paneer Tika Masala)                          (Parota)   \n33      (Plate Shawarma Only Chicken)                           (Pepsi)   \n34                            (Pepsi)     (Plate Shawarma Only Chicken)   \n35                            (Pepsi)  (Roll Shawarma Veg With Chicken)   \n36                   (Veg Fried Rice)                           (Pepsi)   \n\n    antecedent support  consequent support   support  confidence      lift  \\\n0             0.070278            0.057552  0.008672    0.123397  2.144121   \n1             0.057552            0.070278  0.008672    0.150685  2.144121   \n2             0.039194            0.151368  0.006532    0.166667  1.101066   \n3             0.011037            0.119270  0.007546    0.683673  5.732140   \n4             0.066449            0.023989  0.010362    0.155932  6.500103   \n5             0.023989            0.066449  0.010362    0.431925  6.500103   \n6             0.014303            0.066449  0.005068    0.354331  5.332377   \n7             0.066449            0.119270  0.010925    0.164407  1.378440   \n8             0.012727            0.119270  0.006082    0.477876  4.006669   \n9             0.057552            0.151368  0.013628    0.236791  1.564333   \n10            0.057552            0.045951  0.005857    0.101761  2.214554   \n11            0.045951            0.057552  0.005857    0.127451  2.214554   \n12            0.057552            0.151368  0.010024    0.174168  1.150625   \n13            0.035477            0.151368  0.005969    0.168254  1.111553   \n14            0.029958            0.151368  0.005969    0.199248  1.316313   \n15            0.045951            0.151368  0.008109    0.176471  1.165835   \n16            0.151368            0.081428  0.022750    0.150298  1.845771   \n17            0.081428            0.151368  0.022750    0.279391  1.845771   \n18            0.070278            0.151368  0.007996    0.113782  0.751690   \n19            0.151368            0.119270  0.020160    0.133185  1.116662   \n20            0.119270            0.151368  0.020160    0.169027  1.116662   \n21            0.074445            0.151368  0.008560    0.114977  0.759586   \n22            0.060705            0.151368  0.009798    0.161410  1.066339   \n23            0.049443            0.151368  0.006082    0.123007  0.812632   \n24            0.151368            0.151368  0.022750    0.150298  0.992926   \n25            0.151368            0.151368  0.022750    0.150298  0.992926   \n26            0.092578            0.151368  0.010699    0.115572  0.763513   \n27            0.010249            0.119270  0.007095    0.692308  5.804533   \n28            0.011488            0.119270  0.006758    0.588235  4.931956   \n29            0.015204            0.119270  0.010925    0.718519  6.024293   \n30            0.045951            0.081428  0.005631    0.122549  1.504997   \n31            0.030409            0.081428  0.005969    0.196296  2.410671   \n32            0.014303            0.119270  0.007884    0.551181  4.621281   \n33            0.060705            0.074445  0.009911    0.163265  2.193090   \n34            0.074445            0.060705  0.009911    0.133132  2.193090   \n35            0.074445            0.092578  0.009010    0.121029  1.307317   \n36            0.021962            0.074445  0.005068    0.230769  3.099849   \n\n    leverage  conviction  zhangs_metric  \n0   0.004628    1.075115       0.573944  \n1   0.004628    1.094672       0.566194  \n2   0.000600    1.018358       0.095534  \n3   0.006229    2.784243       0.834759  \n4   0.008767    1.156318       0.906385  \n5   0.008767    1.643359       0.866954  \n6   0.004118    1.445866       0.824256  \n7   0.002999    1.054017       0.294084  \n8   0.004564    1.686822       0.760089  \n9   0.004916    1.111925       0.382780  \n10  0.003212    1.062133       0.581933  \n11  0.003212    1.080109       0.574857  \n12  0.001312    1.027608       0.138901  \n13  0.000599    1.020301       0.104049  \n14  0.001434    1.059793       0.247723  \n15  0.001153    1.030481       0.149097  \n16  0.010425    1.081051       0.539953  \n17  0.010425    1.177660       0.498841  \n18 -0.002642    0.957588      -0.262160  \n19  0.002106    1.016052       0.123109  \n20  0.002106    1.021251       0.118622  \n21 -0.002709    0.958881      -0.254824  \n22  0.000610    1.011974       0.066233  \n23 -0.001402    0.967660      -0.195211  \n24 -0.000162    0.998740      -0.008325  \n25 -0.000162    0.998740      -0.008325  \n26 -0.003314    0.959526      -0.254474  \n27  0.005873    2.862372       0.836292  \n28  0.005387    2.138915       0.806506  \n29  0.009111    3.128909       0.846882  \n30  0.001890    1.046864       0.351708  \n31  0.003493    1.142924       0.603530  \n32  0.006178    1.962328       0.794981  \n33  0.005392    1.106151       0.579182  \n34  0.005392    1.083550       0.587780  \n35  0.002118    1.032368       0.253982  \n36  0.003433    1.203221       0.692615  ",
      "text/html": "<div>\n<style scoped>\n    .dataframe tbody tr th:only-of-type {\n        vertical-align: middle;\n    }\n\n    .dataframe tbody tr th {\n        vertical-align: top;\n    }\n\n    .dataframe thead th {\n        text-align: right;\n    }\n</style>\n<table border=\"1\" class=\"dataframe\">\n  <thead>\n    <tr style=\"text-align: right;\">\n      <th></th>\n      <th>antecedents</th>\n      <th>consequents</th>\n      <th>antecedent support</th>\n      <th>consequent support</th>\n      <th>support</th>\n      <th>confidence</th>\n      <th>lift</th>\n      <th>leverage</th>\n      <th>conviction</th>\n      <th>zhangs_metric</th>\n    </tr>\n  </thead>\n  <tbody>\n    <tr>\n      <th>0</th>\n      <td>(Egg Parota)</td>\n      <td>(Alu  onion porota)</td>\n      <td>0.070278</td>\n      <td>0.057552</td>\n      <td>0.008672</td>\n      <td>0.123397</td>\n      <td>2.144121</td>\n      <td>0.004628</td>\n      <td>1.075115</td>\n      <td>0.573944</td>\n    </tr>\n    <tr>\n      <th>1</th>\n      <td>(Alu  onion porota)</td>\n      <td>(Egg Parota)</td>\n      <td>0.057552</td>\n      <td>0.070278</td>\n      <td>0.008672</td>\n      <td>0.150685</td>\n      <td>2.144121</td>\n      <td>0.004628</td>\n      <td>1.094672</td>\n      <td>0.566194</td>\n    </tr>\n    <tr>\n      <th>2</th>\n      <td>(Bread Omlet)</td>\n      <td>(Roll Shawarma Only Chicken)</td>\n      <td>0.039194</td>\n      <td>0.151368</td>\n      <td>0.006532</td>\n      <td>0.166667</td>\n      <td>1.101066</td>\n      <td>0.000600</td>\n      <td>1.018358</td>\n      <td>0.095534</td>\n    </tr>\n    <tr>\n      <th>3</th>\n      <td>(Butter Chicken)</td>\n      <td>(Parota)</td>\n      <td>0.011037</td>\n      <td>0.119270</td>\n      <td>0.007546</td>\n      <td>0.683673</td>\n      <td>5.732140</td>\n      <td>0.006229</td>\n      <td>2.784243</td>\n      <td>0.834759</td>\n    </tr>\n    <tr>\n      <th>4</th>\n      <td>(Chapathi)</td>\n      <td>(Egg Burji)</td>\n      <td>0.066449</td>\n      <td>0.023989</td>\n      <td>0.010362</td>\n      <td>0.155932</td>\n      <td>6.500103</td>\n      <td>0.008767</td>\n      <td>1.156318</td>\n      <td>0.906385</td>\n    </tr>\n    <tr>\n      <th>5</th>\n      <td>(Egg Burji)</td>\n      <td>(Chapathi)</td>\n      <td>0.023989</td>\n      <td>0.066449</td>\n      <td>0.010362</td>\n      <td>0.431925</td>\n      <td>6.500103</td>\n      <td>0.008767</td>\n      <td>1.643359</td>\n      <td>0.866954</td>\n    </tr>\n    <tr>\n      <th>6</th>\n      <td>(Paneer Tika Masala)</td>\n      <td>(Chapathi)</td>\n      <td>0.014303</td>\n      <td>0.066449</td>\n      <td>0.005068</td>\n      <td>0.354331</td>\n      <td>5.332377</td>\n      <td>0.004118</td>\n      <td>1.445866</td>\n      <td>0.824256</td>\n    </tr>\n    <tr>\n      <th>7</th>\n      <td>(Chapathi)</td>\n      <td>(Parota)</td>\n      <td>0.066449</td>\n      <td>0.119270</td>\n      <td>0.010925</td>\n      <td>0.164407</td>\n      <td>1.378440</td>\n      <td>0.002999</td>\n      <td>1.054017</td>\n      <td>0.294084</td>\n    </tr>\n    <tr>\n      <th>8</th>\n      <td>(Chicken Curry)</td>\n      <td>(Parota)</td>\n      <td>0.012727</td>\n      <td>0.119270</td>\n      <td>0.006082</td>\n      <td>0.477876</td>\n      <td>4.006669</td>\n      <td>0.004564</td>\n      <td>1.686822</td>\n      <td>0.760089</td>\n    </tr>\n    <tr>\n      <th>9</th>\n      <td>(Chicken Fried Rice)</td>\n      <td>(Chicken Kabab)</td>\n      <td>0.057552</td>\n      <td>0.151368</td>\n      <td>0.013628</td>\n      <td>0.236791</td>\n      <td>1.564333</td>\n      <td>0.004916</td>\n      <td>1.111925</td>\n      <td>0.382780</td>\n    </tr>\n    <tr>\n      <th>10</th>\n      <td>(Chicken Fried Rice)</td>\n      <td>(Double Omlet)</td>\n      <td>0.057552</td>\n      <td>0.045951</td>\n      <td>0.005857</td>\n      <td>0.101761</td>\n      <td>2.214554</td>\n      <td>0.003212</td>\n      <td>1.062133</td>\n      <td>0.581933</td>\n    </tr>\n    <tr>\n      <th>11</th>\n      <td>(Double Omlet)</td>\n      <td>(Chicken Fried Rice)</td>\n      <td>0.045951</td>\n      <td>0.057552</td>\n      <td>0.005857</td>\n      <td>0.127451</td>\n      <td>2.214554</td>\n      <td>0.003212</td>\n      <td>1.080109</td>\n      <td>0.574857</td>\n    </tr>\n    <tr>\n      <th>12</th>\n      <td>(Chicken Fried Rice)</td>\n      <td>(Roll Shawarma Only Chicken)</td>\n      <td>0.057552</td>\n      <td>0.151368</td>\n      <td>0.010024</td>\n      <td>0.174168</td>\n      <td>1.150625</td>\n      <td>0.001312</td>\n      <td>1.027608</td>\n      <td>0.138901</td>\n    </tr>\n    <tr>\n      <th>13</th>\n      <td>(Chicken Noodles)</td>\n      <td>(Chicken Kabab)</td>\n      <td>0.035477</td>\n      <td>0.151368</td>\n      <td>0.005969</td>\n      <td>0.168254</td>\n      <td>1.111553</td>\n      <td>0.000599</td>\n      <td>1.020301</td>\n      <td>0.104049</td>\n    </tr>\n    <tr>\n      <th>14</th>\n      <td>(Chicken Schezwan Fried Rice)</td>\n      <td>(Chicken Kabab)</td>\n      <td>0.029958</td>\n      <td>0.151368</td>\n      <td>0.005969</td>\n      <td>0.199248</td>\n      <td>1.316313</td>\n      <td>0.001434</td>\n      <td>1.059793</td>\n      <td>0.247723</td>\n    </tr>\n    <tr>\n      <th>15</th>\n      <td>(Double Omlet)</td>\n      <td>(Chicken Kabab)</td>\n      <td>0.045951</td>\n      <td>0.151368</td>\n      <td>0.008109</td>\n      <td>0.176471</td>\n      <td>1.165835</td>\n      <td>0.001153</td>\n      <td>1.030481</td>\n      <td>0.149097</td>\n    </tr>\n    <tr>\n      <th>16</th>\n      <td>(Chicken Kabab)</td>\n      <td>(Egg Fried Rice)</td>\n      <td>0.151368</td>\n      <td>0.081428</td>\n      <td>0.022750</td>\n      <td>0.150298</td>\n      <td>1.845771</td>\n      <td>0.010425</td>\n      <td>1.081051</td>\n      <td>0.539953</td>\n    </tr>\n    <tr>\n      <th>17</th>\n      <td>(Egg Fried Rice)</td>\n      <td>(Chicken Kabab)</td>\n      <td>0.081428</td>\n      <td>0.151368</td>\n      <td>0.022750</td>\n      <td>0.279391</td>\n      <td>1.845771</td>\n      <td>0.010425</td>\n      <td>1.177660</td>\n      <td>0.498841</td>\n    </tr>\n    <tr>\n      <th>18</th>\n      <td>(Egg Parota)</td>\n      <td>(Chicken Kabab)</td>\n      <td>0.070278</td>\n      <td>0.151368</td>\n      <td>0.007996</td>\n      <td>0.113782</td>\n      <td>0.751690</td>\n      <td>-0.002642</td>\n      <td>0.957588</td>\n      <td>-0.262160</td>\n    </tr>\n    <tr>\n      <th>19</th>\n      <td>(Chicken Kabab)</td>\n      <td>(Parota)</td>\n      <td>0.151368</td>\n      <td>0.119270</td>\n      <td>0.020160</td>\n      <td>0.133185</td>\n      <td>1.116662</td>\n      <td>0.002106</td>\n      <td>1.016052</td>\n      <td>0.123109</td>\n    </tr>\n    <tr>\n      <th>20</th>\n      <td>(Parota)</td>\n      <td>(Chicken Kabab)</td>\n      <td>0.119270</td>\n      <td>0.151368</td>\n      <td>0.020160</td>\n      <td>0.169027</td>\n      <td>1.116662</td>\n      <td>0.002106</td>\n      <td>1.021251</td>\n      <td>0.118622</td>\n    </tr>\n    <tr>\n      <th>21</th>\n      <td>(Pepsi)</td>\n      <td>(Chicken Kabab)</td>\n      <td>0.074445</td>\n      <td>0.151368</td>\n      <td>0.008560</td>\n      <td>0.114977</td>\n      <td>0.759586</td>\n      <td>-0.002709</td>\n      <td>0.958881</td>\n      <td>-0.254824</td>\n    </tr>\n    <tr>\n      <th>22</th>\n      <td>(Plate Shawarma Only Chicken)</td>\n      <td>(Chicken Kabab)</td>\n      <td>0.060705</td>\n      <td>0.151368</td>\n      <td>0.009798</td>\n      <td>0.161410</td>\n      <td>1.066339</td>\n      <td>0.000610</td>\n      <td>1.011974</td>\n      <td>0.066233</td>\n    </tr>\n    <tr>\n      <th>23</th>\n      <td>(Plate Shawarma Veg With Chicken)</td>\n      <td>(Chicken Kabab)</td>\n      <td>0.049443</td>\n      <td>0.151368</td>\n      <td>0.006082</td>\n      <td>0.123007</td>\n      <td>0.812632</td>\n      <td>-0.001402</td>\n      <td>0.967660</td>\n      <td>-0.195211</td>\n    </tr>\n    <tr>\n      <th>24</th>\n      <td>(Chicken Kabab)</td>\n      <td>(Roll Shawarma Only Chicken)</td>\n      <td>0.151368</td>\n      <td>0.151368</td>\n      <td>0.022750</td>\n      <td>0.150298</td>\n      <td>0.992926</td>\n      <td>-0.000162</td>\n      <td>0.998740</td>\n      <td>-0.008325</td>\n    </tr>\n    <tr>\n      <th>25</th>\n      <td>(Roll Shawarma Only Chicken)</td>\n      <td>(Chicken Kabab)</td>\n      <td>0.151368</td>\n      <td>0.151368</td>\n      <td>0.022750</td>\n      <td>0.150298</td>\n      <td>0.992926</td>\n      <td>-0.000162</td>\n      <td>0.998740</td>\n      <td>-0.008325</td>\n    </tr>\n    <tr>\n      <th>26</th>\n      <td>(Roll Shawarma Veg With Chicken)</td>\n      <td>(Chicken Kabab)</td>\n      <td>0.092578</td>\n      <td>0.151368</td>\n      <td>0.010699</td>\n      <td>0.115572</td>\n      <td>0.763513</td>\n      <td>-0.003314</td>\n      <td>0.959526</td>\n      <td>-0.254474</td>\n    </tr>\n    <tr>\n      <th>27</th>\n      <td>(Chicken Kadai)</td>\n      <td>(Parota)</td>\n      <td>0.010249</td>\n      <td>0.119270</td>\n      <td>0.007095</td>\n      <td>0.692308</td>\n      <td>5.804533</td>\n      <td>0.005873</td>\n      <td>2.862372</td>\n      <td>0.836292</td>\n    </tr>\n    <tr>\n      <th>28</th>\n      <td>(Chicken Kolapuri)</td>\n      <td>(Parota)</td>\n      <td>0.011488</td>\n      <td>0.119270</td>\n      <td>0.006758</td>\n      <td>0.588235</td>\n      <td>4.931956</td>\n      <td>0.005387</td>\n      <td>2.138915</td>\n      <td>0.806506</td>\n    </tr>\n    <tr>\n      <th>29</th>\n      <td>(Chicken Masala)</td>\n      <td>(Parota)</td>\n      <td>0.015204</td>\n      <td>0.119270</td>\n      <td>0.010925</td>\n      <td>0.718519</td>\n      <td>6.024293</td>\n      <td>0.009111</td>\n      <td>3.128909</td>\n      <td>0.846882</td>\n    </tr>\n    <tr>\n      <th>30</th>\n      <td>(Double Omlet)</td>\n      <td>(Egg Fried Rice)</td>\n      <td>0.045951</td>\n      <td>0.081428</td>\n      <td>0.005631</td>\n      <td>0.122549</td>\n      <td>1.504997</td>\n      <td>0.001890</td>\n      <td>1.046864</td>\n      <td>0.351708</td>\n    </tr>\n    <tr>\n      <th>31</th>\n      <td>(Egg Full Fry)</td>\n      <td>(Egg Fried Rice)</td>\n      <td>0.030409</td>\n      <td>0.081428</td>\n      <td>0.005969</td>\n      <td>0.196296</td>\n      <td>2.410671</td>\n      <td>0.003493</td>\n      <td>1.142924</td>\n      <td>0.603530</td>\n    </tr>\n    <tr>\n      <th>32</th>\n      <td>(Paneer Tika Masala)</td>\n      <td>(Parota)</td>\n      <td>0.014303</td>\n      <td>0.119270</td>\n      <td>0.007884</td>\n      <td>0.551181</td>\n      <td>4.621281</td>\n      <td>0.006178</td>\n      <td>1.962328</td>\n      <td>0.794981</td>\n    </tr>\n    <tr>\n      <th>33</th>\n      <td>(Plate Shawarma Only Chicken)</td>\n      <td>(Pepsi)</td>\n      <td>0.060705</td>\n      <td>0.074445</td>\n      <td>0.009911</td>\n      <td>0.163265</td>\n      <td>2.193090</td>\n      <td>0.005392</td>\n      <td>1.106151</td>\n      <td>0.579182</td>\n    </tr>\n    <tr>\n      <th>34</th>\n      <td>(Pepsi)</td>\n      <td>(Plate Shawarma Only Chicken)</td>\n      <td>0.074445</td>\n      <td>0.060705</td>\n      <td>0.009911</td>\n      <td>0.133132</td>\n      <td>2.193090</td>\n      <td>0.005392</td>\n      <td>1.083550</td>\n      <td>0.587780</td>\n    </tr>\n    <tr>\n      <th>35</th>\n      <td>(Pepsi)</td>\n      <td>(Roll Shawarma Veg With Chicken)</td>\n      <td>0.074445</td>\n      <td>0.092578</td>\n      <td>0.009010</td>\n      <td>0.121029</td>\n      <td>1.307317</td>\n      <td>0.002118</td>\n      <td>1.032368</td>\n      <td>0.253982</td>\n    </tr>\n    <tr>\n      <th>36</th>\n      <td>(Veg Fried Rice)</td>\n      <td>(Pepsi)</td>\n      <td>0.021962</td>\n      <td>0.074445</td>\n      <td>0.005068</td>\n      <td>0.230769</td>\n      <td>3.099849</td>\n      <td>0.003433</td>\n      <td>1.203221</td>\n      <td>0.692615</td>\n    </tr>\n  </tbody>\n</table>\n</div>"
     },
     "metadata": {}
    }
   ]
  },
  {
   "cell_type": "markdown",
   "source": [
    "## Future Plans\n",
    "- Implement FP growth and ECLAT algorithms\n",
    "- Develop a proper data pipeline\n",
    "- Experiment with ML techbiques like Collaborative filtering and Content-Based filtering "
   ],
   "metadata": {}
  },
  {
   "cell_type": "code",
   "source": [],
   "metadata": {},
   "execution_count": null,
   "outputs": []
  }
 ]
}
